{
 "cells": [
  {
   "cell_type": "code",
   "execution_count": 1,
   "metadata": {},
   "outputs": [
    {
     "name": "stdout",
     "output_type": "stream",
     "text": [
      "2.0.0\n",
      "sys.version_info(major=3, minor=7, micro=6, releaselevel='final', serial=0)\n",
      "matplotlib 3.1.3\n",
      "numpy 1.18.1\n",
      "pandas 1.0.1\n",
      "sklearn 0.22.1\n",
      "tensorflow 2.0.0\n",
      "tensorflow_core.keras 2.2.4-tf\n"
     ]
    }
   ],
   "source": [
    "import matplotlib as mpl\n",
    "import matplotlib.pyplot as plt\n",
    "%matplotlib inline\n",
    "import numpy as np\n",
    "import sklearn\n",
    "import pandas as pd\n",
    "import os\n",
    "import sys\n",
    "import time\n",
    "import tensorflow as tf\n",
    "\n",
    "from tensorflow import keras\n",
    "\n",
    "print(tf.__version__)\n",
    "print(sys.version_info)\n",
    "for module in mpl, np, pd, sklearn, tf, keras:\n",
    "    print(module.__name__, module.__version__)"
   ]
  },
  {
   "cell_type": "code",
   "execution_count": 2,
   "metadata": {},
   "outputs": [
    {
     "name": "stdout",
     "output_type": "stream",
     "text": [
      "[PhysicalDevice(name='/physical_device:GPU:0', device_type='GPU')]\n"
     ]
    }
   ],
   "source": [
    "# 设置gpu内存自增长\n",
    "gpus = tf.config.experimental.list_physical_devices('GPU')\n",
    "print(gpus)\n",
    "for gpu in gpus:\n",
    "    tf.config.experimental.set_memory_growth(gpu, True)"
   ]
  },
  {
   "cell_type": "markdown",
   "metadata": {},
   "source": [
    "## 数据处理"
   ]
  },
  {
   "cell_type": "code",
   "execution_count": 3,
   "metadata": {},
   "outputs": [
    {
     "name": "stdout",
     "output_type": "stream",
     "text": [
      "1115394\n",
      "First Citizen:\n",
      "Before we proceed any further, hear me speak.\n",
      "\n",
      "All:\n",
      "Speak, speak.\n",
      "\n",
      "First Citizen:\n",
      "You\n"
     ]
    }
   ],
   "source": [
    "input_filepath = './shakespeare.txt'\n",
    "text = open(input_filepath, 'r').read()\n",
    "\n",
    "print(len(text))\n",
    "print(text[0:100])"
   ]
  },
  {
   "cell_type": "code",
   "execution_count": 4,
   "metadata": {},
   "outputs": [
    {
     "name": "stdout",
     "output_type": "stream",
     "text": [
      "65\n",
      "['\\n', ' ', '!', '$', '&', \"'\", ',', '-', '.', '3', ':', ';', '?', 'A', 'B', 'C', 'D', 'E', 'F', 'G', 'H', 'I', 'J', 'K', 'L', 'M', 'N', 'O', 'P', 'Q', 'R', 'S', 'T', 'U', 'V', 'W', 'X', 'Y', 'Z', 'a', 'b', 'c', 'd', 'e', 'f', 'g', 'h', 'i', 'j', 'k', 'l', 'm', 'n', 'o', 'p', 'q', 'r', 's', 't', 'u', 'v', 'w', 'x', 'y', 'z']\n"
     ]
    }
   ],
   "source": [
    "# 1. 生成词表\n",
    "# 2. 建立映射 char -> id\n",
    "# 3. data -> id\n",
    "# 4. 定义模型的输入和输出\n",
    "\n",
    "# 1. 生成词表\n",
    "vocab = sorted(set(text))  # 新建一个set对象, set会将重复的字符去掉因此可以用来当做词表\n",
    "print(len(vocab))\n",
    "print(vocab)"
   ]
  },
  {
   "cell_type": "code",
   "execution_count": 5,
   "metadata": {},
   "outputs": [
    {
     "name": "stdout",
     "output_type": "stream",
     "text": [
      "{'\\n': 0, ' ': 1, '!': 2, '$': 3, '&': 4, \"'\": 5, ',': 6, '-': 7, '.': 8, '3': 9, ':': 10, ';': 11, '?': 12, 'A': 13, 'B': 14, 'C': 15, 'D': 16, 'E': 17, 'F': 18, 'G': 19, 'H': 20, 'I': 21, 'J': 22, 'K': 23, 'L': 24, 'M': 25, 'N': 26, 'O': 27, 'P': 28, 'Q': 29, 'R': 30, 'S': 31, 'T': 32, 'U': 33, 'V': 34, 'W': 35, 'X': 36, 'Y': 37, 'Z': 38, 'a': 39, 'b': 40, 'c': 41, 'd': 42, 'e': 43, 'f': 44, 'g': 45, 'h': 46, 'i': 47, 'j': 48, 'k': 49, 'l': 50, 'm': 51, 'n': 52, 'o': 53, 'p': 54, 'q': 55, 'r': 56, 's': 57, 't': 58, 'u': 59, 'v': 60, 'w': 61, 'x': 62, 'y': 63, 'z': 64}\n"
     ]
    }
   ],
   "source": [
    "# 2. 建立映射 char -> id\n",
    "char2idx = {char: idx for idx, char in enumerate(vocab)}\n",
    "print(char2idx)"
   ]
  },
  {
   "cell_type": "code",
   "execution_count": 6,
   "metadata": {},
   "outputs": [
    {
     "name": "stdout",
     "output_type": "stream",
     "text": [
      "['\\n' ' ' '!' '$' '&' \"'\" ',' '-' '.' '3' ':' ';' '?' 'A' 'B' 'C' 'D' 'E'\n",
      " 'F' 'G' 'H' 'I' 'J' 'K' 'L' 'M' 'N' 'O' 'P' 'Q' 'R' 'S' 'T' 'U' 'V' 'W'\n",
      " 'X' 'Y' 'Z' 'a' 'b' 'c' 'd' 'e' 'f' 'g' 'h' 'i' 'j' 'k' 'l' 'm' 'n' 'o'\n",
      " 'p' 'q' 'r' 's' 't' 'u' 'v' 'w' 'x' 'y' 'z']\n"
     ]
    }
   ],
   "source": [
    "idx2char = np.array(vocab)\n",
    "print(idx2char)"
   ]
  },
  {
   "cell_type": "code",
   "execution_count": 7,
   "metadata": {},
   "outputs": [
    {
     "name": "stdout",
     "output_type": "stream",
     "text": [
      "[18 47 56 57 58  1 15 47 58 47]\n",
      "First Citi\n"
     ]
    }
   ],
   "source": [
    "# 3. data -> id\n",
    "text_as_int = np.array([char2idx[c] for c in text])\n",
    "print(text_as_int[0:10])\n",
    "print(text[0:10])"
   ]
  },
  {
   "cell_type": "code",
   "execution_count": 8,
   "metadata": {},
   "outputs": [
    {
     "name": "stdout",
     "output_type": "stream",
     "text": [
      "tf.Tensor(18, shape=(), dtype=int32) F\n",
      "tf.Tensor(47, shape=(), dtype=int32) i\n",
      "tf.Tensor(\n",
      "[18 47 56 57 58  1 15 47 58 47 64 43 52 10  0 14 43 44 53 56 43  1 61 43\n",
      "  1 54 56 53 41 43 43 42  1 39 52 63  1 44 59 56 58 46 43 56  6  1 46 43\n",
      " 39 56  1 51 43  1 57 54 43 39 49  8  0  0 13 50 50 10  0 31 54 43 39 49\n",
      "  6  1 57 54 43 39 49  8  0  0 18 47 56 57 58  1 15 47 58 47 64 43 52 10\n",
      "  0 37 53 59  1], shape=(101,), dtype=int32)\n",
      "'First Citizen:\\nBefore we proceed any further, hear me speak.\\n\\nAll:\\nSpeak, speak.\\n\\nFirst Citizen:\\nYou '\n",
      "tf.Tensor(\n",
      "[39 56 43  1 39 50 50  1 56 43 57 53 50 60 43 42  1 56 39 58 46 43 56  1\n",
      " 58 53  1 42 47 43  1 58 46 39 52  1 58 53  1 44 39 51 47 57 46 12  0  0\n",
      " 13 50 50 10  0 30 43 57 53 50 60 43 42  8  1 56 43 57 53 50 60 43 42  8\n",
      "  0  0 18 47 56 57 58  1 15 47 58 47 64 43 52 10  0 18 47 56 57 58  6  1\n",
      " 63 53 59  1 49], shape=(101,), dtype=int32)\n",
      "'are all resolved rather to die than to famish?\\n\\nAll:\\nResolved. resolved.\\n\\nFirst Citizen:\\nFirst, you k'\n"
     ]
    }
   ],
   "source": [
    "# 4. 定义模型的输入和输出\n",
    "def split_input_target(id_text):\n",
    "    return id_text[0:-1], id_text[1:]\n",
    "\n",
    "# 字符数据集\n",
    "char_dataset = tf.data.Dataset.from_tensor_slices(text_as_int)\n",
    "seq_length = 100\n",
    "# 等长分割(长度为seq_length)，不是按照完整的句子/单词结构\n",
    "# 句子数据集\n",
    "seq_dataset = char_dataset.batch(seq_length + 1, drop_remainder = True)  # drop_remainder=True,batch做到最后多出来的数据丢掉\n",
    "\n",
    "for ch_id in char_dataset.take(2):\n",
    "    print(ch_id, idx2char[ch_id.numpy()])\n",
    "for seq_id in seq_dataset.take(2):\n",
    "    print(seq_id)\n",
    "    print(repr(''.join(idx2char[seq_id.numpy()])))"
   ]
  },
  {
   "cell_type": "code",
   "execution_count": 9,
   "metadata": {},
   "outputs": [
    {
     "name": "stdout",
     "output_type": "stream",
     "text": [
      "[18 47 56 57 58  1 15 47 58 47 64 43 52 10  0 14 43 44 53 56 43  1 61 43\n",
      "  1 54 56 53 41 43 43 42  1 39 52 63  1 44 59 56 58 46 43 56  6  1 46 43\n",
      " 39 56  1 51 43  1 57 54 43 39 49  8  0  0 13 50 50 10  0 31 54 43 39 49\n",
      "  6  1 57 54 43 39 49  8  0  0 18 47 56 57 58  1 15 47 58 47 64 43 52 10\n",
      "  0 37 53 59]\n",
      "[47 56 57 58  1 15 47 58 47 64 43 52 10  0 14 43 44 53 56 43  1 61 43  1\n",
      " 54 56 53 41 43 43 42  1 39 52 63  1 44 59 56 58 46 43 56  6  1 46 43 39\n",
      " 56  1 51 43  1 57 54 43 39 49  8  0  0 13 50 50 10  0 31 54 43 39 49  6\n",
      "  1 57 54 43 39 49  8  0  0 18 47 56 57 58  1 15 47 58 47 64 43 52 10  0\n",
      " 37 53 59  1]\n"
     ]
    }
   ],
   "source": [
    "# 拆分输入和输出\n",
    "seq_dataset = seq_dataset.map(split_input_target)\n",
    "for item_input, item_output in seq_dataset.take(1):\n",
    "    print(item_input.numpy())\n",
    "    print(item_output.numpy())"
   ]
  },
  {
   "cell_type": "markdown",
   "metadata": {},
   "source": [
    "## 构建模型"
   ]
  },
  {
   "cell_type": "code",
   "execution_count": 10,
   "metadata": {},
   "outputs": [],
   "source": [
    "batch_size = 64\n",
    "buffer_size = 10000\n",
    "seq_dataset = seq_dataset.shuffle(buffer_size).batch(batch_size, drop_remainder=True)"
   ]
  },
  {
   "cell_type": "code",
   "execution_count": 11,
   "metadata": {},
   "outputs": [
    {
     "name": "stdout",
     "output_type": "stream",
     "text": [
      "Model: \"sequential\"\n",
      "_________________________________________________________________\n",
      "Layer (type)                 Output Shape              Param #   \n",
      "=================================================================\n",
      "embedding (Embedding)        (64, None, 256)           16640     \n",
      "_________________________________________________________________\n",
      "lstm (LSTM)                  (64, None, 1024)          5246976   \n",
      "_________________________________________________________________\n",
      "dense (Dense)                (64, None, 65)            66625     \n",
      "=================================================================\n",
      "Total params: 5,330,241\n",
      "Trainable params: 5,330,241\n",
      "Non-trainable params: 0\n",
      "_________________________________________________________________\n"
     ]
    }
   ],
   "source": [
    "vocab_size = len(vocab)\n",
    "embedding_dim = 256\n",
    "rnn_units = 1024\n",
    "\n",
    "def build_model(vocab_size, embedding_dim, rnn_units, batch_size):\n",
    "    model = keras.models.Sequential([\n",
    "        keras.layers.Embedding(vocab_size, embedding_dim, batch_input_shape=[batch_size, None]),\n",
    "        keras.layers.LSTM(units=rnn_units, \n",
    "                          stateful = True,\n",
    "                          recurrent_initializer = 'glorot_uniform',\n",
    "                          return_sequences=True),\n",
    "        keras.layers.Dense(vocab_size)\n",
    "    ])\n",
    "    return model\n",
    "\n",
    "model = build_model(vocab_size, embedding_dim, rnn_units, batch_size)\n",
    "\n",
    "model.summary()"
   ]
  },
  {
   "cell_type": "code",
   "execution_count": 12,
   "metadata": {},
   "outputs": [
    {
     "name": "stdout",
     "output_type": "stream",
     "text": [
      "(64, 100, 65)\n"
     ]
    }
   ],
   "source": [
    "for input_batch, target_batch in seq_dataset.take(1):\n",
    "    batch_prediction = model(input_batch)\n",
    "    print(batch_prediction.shape)"
   ]
  },
  {
   "cell_type": "code",
   "execution_count": 13,
   "metadata": {},
   "outputs": [
    {
     "name": "stdout",
     "output_type": "stream",
     "text": [
      "(100, 1)\n",
      "(100,)\n"
     ]
    }
   ],
   "source": [
    "# 随机采样\n",
    "# 采用概率最大的字符作为预测值：贪心策略(greedy)，只能产生一个序列；采用随机采样的方式来输出预测值：随机策略(random),能产生多个序列\n",
    "sample_indices = tf.random.categorical(logits = batch_prediction[0], # batch_prediction[0]: [100, 65]  # logits：对于分类任务来说，计算softmax之前的值成为logits\n",
    "                                       num_samples = 1   # 随机采样几个数\n",
    "                                       )\n",
    "print(sample_indices.shape)\n",
    "sample_indices = tf.squeeze(sample_indices, axis=-1)  # 去掉一个多余的维度\n",
    "print(sample_indices.shape)"
   ]
  },
  {
   "cell_type": "code",
   "execution_count": 14,
   "metadata": {},
   "outputs": [
    {
     "name": "stdout",
     "output_type": "stream",
     "text": [
      "Input:  'nap.\\nBut did I never speak of all that time?\\n\\nFirst Servant:\\nO, yes, my lord, but very idle words:\\nF'\n",
      "Output:  'ap.\\nBut did I never speak of all that time?\\n\\nFirst Servant:\\nO, yes, my lord, but very idle words:\\nFo'\n",
      "Predictions:  'O,OYZvtbIYYfzLuU?D?tfxCHOQV&qOIyWWxU3QCGECI;ynrjEFniJ3ZnENms3t.p-O!FQpYDbgUD.Ft-hlwAm-&D-XOotYmMgoyb'\n"
     ]
    }
   ],
   "source": [
    "print(\"Input: \", repr(\"\".join(idx2char[input_batch[0]])))\n",
    "print(\"Output: \", repr(\"\".join(idx2char[target_batch[0]])))\n",
    "print(\"Predictions: \", repr(\"\".join(idx2char[sample_indices])))"
   ]
  },
  {
   "cell_type": "code",
   "execution_count": 15,
   "metadata": {},
   "outputs": [
    {
     "name": "stdout",
     "output_type": "stream",
     "text": [
      "(64, 100)\n",
      "4.1748257\n"
     ]
    }
   ],
   "source": [
    "# 自定义损失函数\n",
    "def loss(labels, logits):\n",
    "    return keras.losses.sparse_categorical_crossentropy(labels, logits, from_logits=True)  # 默认是以概率分布(经过softmax激活函数)和labels为输入,在这里以logits作为输入，因此要设from_logits=True\n",
    "\n",
    "model.compile(optimizer='adam', loss=loss)\n",
    "example_loss = loss(target_batch, batch_prediction)\n",
    "print(example_loss.shape)\n",
    "print(example_loss.numpy().mean())"
   ]
  },
  {
   "cell_type": "code",
   "execution_count": 16,
   "metadata": {},
   "outputs": [
    {
     "name": "stdout",
     "output_type": "stream",
     "text": [
      "Epoch 1/100\n",
      "172/172 [==============================] - 13s 74ms/step - loss: 2.5782\n",
      "Epoch 2/100\n",
      "172/172 [==============================] - 11s 61ms/step - loss: 1.8777\n",
      "Epoch 3/100\n",
      "172/172 [==============================] - 10s 61ms/step - loss: 1.6276\n",
      "Epoch 4/100\n",
      "172/172 [==============================] - 11s 61ms/step - loss: 1.4955\n",
      "Epoch 5/100\n",
      "172/172 [==============================] - 11s 61ms/step - loss: 1.4174\n",
      "Epoch 6/100\n",
      "172/172 [==============================] - 11s 62ms/step - loss: 1.3603\n",
      "Epoch 7/100\n",
      "172/172 [==============================] - 11s 62ms/step - loss: 1.3164\n",
      "Epoch 8/100\n",
      "172/172 [==============================] - 11s 62ms/step - loss: 1.2787\n",
      "Epoch 9/100\n",
      "172/172 [==============================] - 11s 62ms/step - loss: 1.2426\n",
      "Epoch 10/100\n",
      "172/172 [==============================] - 11s 62ms/step - loss: 1.2088\n",
      "Epoch 11/100\n",
      "172/172 [==============================] - 11s 62ms/step - loss: 1.1727\n",
      "Epoch 12/100\n",
      "172/172 [==============================] - 11s 61ms/step - loss: 1.1376\n",
      "Epoch 13/100\n",
      "172/172 [==============================] - 11s 62ms/step - loss: 1.1020\n",
      "Epoch 14/100\n",
      "172/172 [==============================] - 11s 62ms/step - loss: 1.0636\n",
      "Epoch 15/100\n",
      "172/172 [==============================] - 11s 62ms/step - loss: 1.0234\n",
      "Epoch 16/100\n",
      "172/172 [==============================] - 11s 62ms/step - loss: 0.9834\n",
      "Epoch 17/100\n",
      "172/172 [==============================] - 11s 62ms/step - loss: 0.9439\n",
      "Epoch 18/100\n",
      "172/172 [==============================] - 11s 62ms/step - loss: 0.9034\n",
      "Epoch 19/100\n",
      "172/172 [==============================] - 11s 62ms/step - loss: 0.8643\n",
      "Epoch 20/100\n",
      "172/172 [==============================] - 11s 62ms/step - loss: 0.8266\n",
      "Epoch 21/100\n",
      "172/172 [==============================] - 11s 62ms/step - loss: 0.7893\n",
      "Epoch 22/100\n",
      "172/172 [==============================] - 11s 62ms/step - loss: 0.7559\n",
      "Epoch 23/100\n",
      "172/172 [==============================] - 11s 62ms/step - loss: 0.7251\n",
      "Epoch 24/100\n",
      "172/172 [==============================] - 11s 63ms/step - loss: 0.6951\n",
      "Epoch 25/100\n",
      "172/172 [==============================] - 11s 62ms/step - loss: 0.6687\n",
      "Epoch 26/100\n",
      "172/172 [==============================] - 11s 62ms/step - loss: 0.6445\n",
      "Epoch 27/100\n",
      "172/172 [==============================] - 11s 62ms/step - loss: 0.6223\n",
      "Epoch 28/100\n",
      "172/172 [==============================] - 11s 62ms/step - loss: 0.6033\n",
      "Epoch 29/100\n",
      "172/172 [==============================] - 11s 61ms/step - loss: 0.5835\n",
      "Epoch 30/100\n",
      "172/172 [==============================] - 11s 62ms/step - loss: 0.5690\n",
      "Epoch 31/100\n",
      "172/172 [==============================] - 11s 62ms/step - loss: 0.5541\n",
      "Epoch 32/100\n",
      "172/172 [==============================] - 11s 62ms/step - loss: 0.5408\n",
      "Epoch 33/100\n",
      "172/172 [==============================] - 11s 62ms/step - loss: 0.5265\n",
      "Epoch 34/100\n",
      "172/172 [==============================] - 11s 62ms/step - loss: 0.5162\n",
      "Epoch 35/100\n",
      "172/172 [==============================] - 11s 62ms/step - loss: 0.5062\n",
      "Epoch 36/100\n",
      "172/172 [==============================] - 11s 63ms/step - loss: 0.4991\n",
      "Epoch 37/100\n",
      "172/172 [==============================] - 11s 62ms/step - loss: 0.4888\n",
      "Epoch 38/100\n",
      "172/172 [==============================] - 11s 62ms/step - loss: 0.4806\n",
      "Epoch 39/100\n",
      "172/172 [==============================] - 11s 66ms/step - loss: 0.4750\n",
      "Epoch 40/100\n",
      "172/172 [==============================] - 11s 62ms/step - loss: 0.4691\n",
      "Epoch 41/100\n",
      "172/172 [==============================] - 11s 62ms/step - loss: 0.4624\n",
      "Epoch 42/100\n",
      "172/172 [==============================] - 11s 62ms/step - loss: 0.4603\n",
      "Epoch 43/100\n",
      "172/172 [==============================] - 11s 62ms/step - loss: 0.4529\n",
      "Epoch 44/100\n",
      "172/172 [==============================] - 11s 62ms/step - loss: 0.4492\n",
      "Epoch 45/100\n",
      "172/172 [==============================] - 11s 62ms/step - loss: 0.4443\n",
      "Epoch 46/100\n",
      "172/172 [==============================] - 11s 62ms/step - loss: 0.4406\n",
      "Epoch 47/100\n",
      "172/172 [==============================] - 11s 62ms/step - loss: 0.4370\n",
      "Epoch 48/100\n",
      "172/172 [==============================] - 11s 62ms/step - loss: 0.4348\n",
      "Epoch 49/100\n",
      "172/172 [==============================] - 11s 62ms/step - loss: 0.4313\n",
      "Epoch 50/100\n",
      "172/172 [==============================] - 11s 62ms/step - loss: 0.4292\n",
      "Epoch 51/100\n",
      "172/172 [==============================] - 11s 62ms/step - loss: 0.4276\n",
      "Epoch 52/100\n",
      "172/172 [==============================] - 11s 62ms/step - loss: 0.4229\n",
      "Epoch 53/100\n",
      "172/172 [==============================] - 11s 62ms/step - loss: 0.4211\n",
      "Epoch 54/100\n",
      "172/172 [==============================] - 11s 62ms/step - loss: 0.4202\n",
      "Epoch 55/100\n",
      "172/172 [==============================] - 11s 61ms/step - loss: 0.4160\n",
      "Epoch 56/100\n",
      "172/172 [==============================] - 11s 62ms/step - loss: 0.4133\n",
      "Epoch 57/100\n",
      "172/172 [==============================] - 11s 62ms/step - loss: 0.4114\n",
      "Epoch 58/100\n",
      "172/172 [==============================] - 11s 62ms/step - loss: 0.4131\n",
      "Epoch 59/100\n",
      "172/172 [==============================] - 11s 62ms/step - loss: 0.4113\n",
      "Epoch 60/100\n",
      "172/172 [==============================] - 11s 62ms/step - loss: 0.4108\n",
      "Epoch 61/100\n",
      "172/172 [==============================] - 11s 62ms/step - loss: 0.4092\n",
      "Epoch 62/100\n",
      "172/172 [==============================] - 11s 61ms/step - loss: 0.4076\n",
      "Epoch 63/100\n",
      "172/172 [==============================] - 11s 62ms/step - loss: 0.4040\n",
      "Epoch 64/100\n",
      "172/172 [==============================] - 11s 62ms/step - loss: 0.4024\n",
      "Epoch 65/100\n",
      "172/172 [==============================] - 11s 62ms/step - loss: 0.4043\n",
      "Epoch 66/100\n",
      "172/172 [==============================] - 11s 62ms/step - loss: 0.4020\n",
      "Epoch 67/100\n",
      "172/172 [==============================] - 11s 61ms/step - loss: 0.4010\n",
      "Epoch 68/100\n",
      "172/172 [==============================] - 11s 62ms/step - loss: 0.4005\n",
      "Epoch 69/100\n",
      "172/172 [==============================] - 11s 61ms/step - loss: 0.3976\n",
      "Epoch 70/100\n",
      "172/172 [==============================] - 11s 62ms/step - loss: 0.3982\n",
      "Epoch 71/100\n",
      "172/172 [==============================] - 11s 62ms/step - loss: 0.3981\n",
      "Epoch 72/100\n",
      "172/172 [==============================] - 11s 61ms/step - loss: 0.3969\n",
      "Epoch 73/100\n",
      "172/172 [==============================] - 11s 62ms/step - loss: 0.3960\n",
      "Epoch 74/100\n",
      "172/172 [==============================] - 11s 62ms/step - loss: 0.3960\n",
      "Epoch 75/100\n",
      "172/172 [==============================] - 11s 62ms/step - loss: 0.3945\n",
      "Epoch 76/100\n",
      "172/172 [==============================] - 11s 63ms/step - loss: 0.3957\n",
      "Epoch 77/100\n",
      "172/172 [==============================] - 11s 62ms/step - loss: 0.3930\n",
      "Epoch 78/100\n",
      "172/172 [==============================] - 11s 62ms/step - loss: 0.3914\n",
      "Epoch 79/100\n",
      "172/172 [==============================] - 11s 62ms/step - loss: 0.3912\n",
      "Epoch 80/100\n",
      "172/172 [==============================] - 11s 61ms/step - loss: 0.3908\n",
      "Epoch 81/100\n",
      "172/172 [==============================] - 11s 62ms/step - loss: 0.3922\n",
      "Epoch 82/100\n",
      "172/172 [==============================] - 11s 62ms/step - loss: 0.3899\n",
      "Epoch 83/100\n",
      "172/172 [==============================] - 11s 61ms/step - loss: 0.3910\n",
      "Epoch 84/100\n",
      "172/172 [==============================] - 11s 62ms/step - loss: 0.3898\n",
      "Epoch 85/100\n",
      "172/172 [==============================] - 11s 62ms/step - loss: 0.3909\n",
      "Epoch 86/100\n",
      "172/172 [==============================] - 11s 62ms/step - loss: 0.3892\n",
      "Epoch 87/100\n",
      "172/172 [==============================] - 11s 62ms/step - loss: 0.3892\n",
      "Epoch 88/100\n",
      "172/172 [==============================] - 11s 62ms/step - loss: 0.3868\n",
      "Epoch 89/100\n",
      "172/172 [==============================] - 11s 62ms/step - loss: 0.3892\n",
      "Epoch 90/100\n",
      "172/172 [==============================] - 11s 62ms/step - loss: 0.3916\n",
      "Epoch 91/100\n",
      "172/172 [==============================] - 11s 62ms/step - loss: 0.3898\n",
      "Epoch 92/100\n",
      "172/172 [==============================] - 11s 62ms/step - loss: 0.3897\n",
      "Epoch 93/100\n",
      "172/172 [==============================] - 11s 62ms/step - loss: 0.3890\n",
      "Epoch 94/100\n",
      "172/172 [==============================] - 11s 62ms/step - loss: 0.3871\n",
      "Epoch 95/100\n",
      "172/172 [==============================] - 11s 62ms/step - loss: 0.3890\n",
      "Epoch 96/100\n",
      "172/172 [==============================] - 11s 62ms/step - loss: 0.3881\n",
      "Epoch 97/100\n"
     ]
    },
    {
     "name": "stdout",
     "output_type": "stream",
     "text": [
      "172/172 [==============================] - 11s 62ms/step - loss: 0.3871\n",
      "Epoch 98/100\n",
      "172/172 [==============================] - 11s 62ms/step - loss: 0.3857\n",
      "Epoch 99/100\n",
      "172/172 [==============================] - 11s 62ms/step - loss: 0.3865\n",
      "Epoch 100/100\n",
      "172/172 [==============================] - 11s 62ms/step - loss: 0.3843\n"
     ]
    }
   ],
   "source": [
    "# 训练模型 将模型保存下来\n",
    "output_dir = './text_generation_checkpoints'\n",
    "if not os.path.exists(output_dir):\n",
    "    os.mkdir(output_dir)\n",
    "checkpoint_prefix = os.path.join(output_dir, 'ckpt_{epoch}')\n",
    "checkpoint_callback = keras.callbacks.ModelCheckpoint(filepath=checkpoint_prefix, save_weights_only=True)\n",
    "epochs = 100\n",
    "history = model.fit(seq_dataset, epochs=epochs, callbacks=[checkpoint_callback])"
   ]
  },
  {
   "cell_type": "code",
   "execution_count": 17,
   "metadata": {},
   "outputs": [
    {
     "data": {
      "text/plain": [
       "'./text_generation_checkpoints\\\\ckpt_100'"
      ]
     },
     "execution_count": 17,
     "metadata": {},
     "output_type": "execute_result"
    }
   ],
   "source": [
    "tf.train.latest_checkpoint(output_dir)"
   ]
  },
  {
   "cell_type": "code",
   "execution_count": 18,
   "metadata": {},
   "outputs": [
    {
     "name": "stdout",
     "output_type": "stream",
     "text": [
      "Model: \"sequential_1\"\n",
      "_________________________________________________________________\n",
      "Layer (type)                 Output Shape              Param #   \n",
      "=================================================================\n",
      "embedding_1 (Embedding)      (1, None, 256)            16640     \n",
      "_________________________________________________________________\n",
      "lstm_1 (LSTM)                (1, None, 1024)           5246976   \n",
      "_________________________________________________________________\n",
      "dense_1 (Dense)              (1, None, 65)             66625     \n",
      "=================================================================\n",
      "Total params: 5,330,241\n",
      "Trainable params: 5,330,241\n",
      "Non-trainable params: 0\n",
      "_________________________________________________________________\n"
     ]
    }
   ],
   "source": [
    "# 有checkpoint载入模型  用于预测\n",
    "model2 = build_model(vocab_size, embedding_dim, rnn_units, batch_size=1)   # batch_size=1: 预测时一次只生成一个句子\n",
    "model2.load_weights(tf.train.latest_checkpoint(output_dir))\n",
    "model2.build(tf.TensorShape([1, None])) # 设置输入的size, 1表示输入一个样本，None指输入变长的句子\n",
    "model2.summary()"
   ]
  },
  {
   "cell_type": "code",
   "execution_count": 19,
   "metadata": {},
   "outputs": [
    {
     "name": "stdout",
     "output_type": "stream",
     "text": [
      "All: belike he me,\n",
      "And made her widow to a borrow that the haste strait'st that bear the corse, and set it down.\n",
      "\n",
      "LADY ANNE:\n",
      "Would it were mortal policy, hate the hour that e'er I undertake the traitor for thy faults.\n",
      "\n",
      "TRANIO:\n",
      "O tis sweet with my native promise\n",
      "To excels the child: I not a maid we should be cold.\n",
      "\n",
      "GLOUCESTER:\n",
      "Look, how they come to him their friends at peace.\n",
      "\n",
      "BUCKINGHAM:\n",
      "What thinks your daughter of my words,\n",
      "Break our spite, and doth beg the all-cherits of a wilderness,\n",
      "And spit upon him, whilst I do beseech your grace\n",
      "Look on my wrongs did before Corioli loured the north,\n",
      "When they should see thee here, faint and not aver she was bornt it.\n",
      "\n",
      "VINCENTIO:\n",
      "Come hither, you rogue. What, have you forgot me?\n",
      "\n",
      "BIONDELLO:\n",
      "Faith, nothing; but has let them take my leave of you, and put up my mind.\n",
      "\n",
      "DUCHESS OF YORK:\n",
      "A god on earth thou art, bound from mistaking,--\n",
      "\n",
      "BUCKINGHAM:\n",
      "No, by my troth, if I be good of you.\n",
      "\n",
      "Roman:\n",
      "'Tis well, sir, what an if\n",
      "The foul that hath overtages himsel\n"
     ]
    }
   ],
   "source": [
    "# 文本生成\n",
    "# start char sequence A,\n",
    "# A -> model -> b\n",
    "# A.append(b) -> B\n",
    "# B -> model -> c\n",
    "# B.append(c) -> C\n",
    "# ...\n",
    "def generate_text(model, start_string, num_generate=1000):\n",
    "    input_eval = [char2idx[ch] for ch in start_string]\n",
    "    input_eval = tf.expand_dims(input_eval, 0)  # 增加一个维度，因为模型的输入是[1, None]\n",
    "    text_generated = []  # 用于存放生成的字符\n",
    "    model.reset_states()\n",
    "    \n",
    "    # temperature > 1, 概率分布更加均匀，更接近random\n",
    "    # temperature < 1, 概率分布更加陡峭，更加紧greedy\n",
    "    temperature = 0.5\n",
    "    for _ in range(num_generate):\n",
    "        # 1. input_eval model ingerence -> predictions\n",
    "        # 2. sample -> char ->text_generate\n",
    "        # 3. update input_eval\n",
    "        # predictions: [batch_size, len(input_eval), vocab_size]\n",
    "        predictions = model(input_eval)\n",
    "        predictions = predictions / temperature  # 此处predictions是logits，当除以一个小于1值时，在经过softmax后，概率分布会变陡峭，也就更加接近greedy算法\n",
    "        # predictions: [batch_size, len(input_eval), vocab_size] -> [len(input_eval), vocab_size]\n",
    "        predictions = tf.squeeze(predictions, 0)\n",
    "        # predicted_ids: [len(input_eval, 1)]\n",
    "        predicted_ids = tf.random.categorical(predictions, num_samples=1)\n",
    "        predicted_id = predicted_ids[-1, 0].numpy()\n",
    "        text_generated.append(idx2char[predicted_id])\n",
    "        # s, x -> rnn -> s', y 只需要一个字符作为输入\n",
    "        input_eval = tf.expand_dims([predicted_id], 0)\n",
    "    return start_string + ''.join(text_generated)\n",
    "new_text = generate_text(model2, 'All: ')\n",
    "print(new_text)"
   ]
  },
  {
   "cell_type": "code",
   "execution_count": null,
   "metadata": {},
   "outputs": [],
   "source": []
  }
 ],
 "metadata": {
  "kernelspec": {
   "display_name": "Python 3",
   "language": "python",
   "name": "python3"
  },
  "language_info": {
   "codemirror_mode": {
    "name": "ipython",
    "version": 3
   },
   "file_extension": ".py",
   "mimetype": "text/x-python",
   "name": "python",
   "nbconvert_exporter": "python",
   "pygments_lexer": "ipython3",
   "version": "3.7.6"
  }
 },
 "nbformat": 4,
 "nbformat_minor": 4
}
