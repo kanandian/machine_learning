{
 "cells": [
  {
   "cell_type": "code",
   "execution_count": null,
   "metadata": {},
   "outputs": [],
   "source": [
    "import matplotlib as mpl\n",
    "import matplotlib.pyplot as plt\n",
    "%matplotlib inline\n",
    "import numpy as np\n",
    "import sklearn\n",
    "import pandas as pd\n",
    "import os\n",
    "import sys\n",
    "import time\n",
    "import tensorflow as tf\n",
    "\n",
    "from tensorflow import keras\n",
    "\n",
    "print(tf.__version__)\n",
    "print(sys.version_info)\n",
    "for module in mpl, np, pd, sklearn, tf, keras:\n",
    "    print(module.__name__, module.__version__)"
   ]
  },
  {
   "cell_type": "markdown",
   "metadata": {},
   "source": [
    "## 数据处理"
   ]
  },
  {
   "cell_type": "code",
   "execution_count": null,
   "metadata": {},
   "outputs": [],
   "source": [
    "input_filepath = './shakespeare.txt'\n",
    "text = open(input_filepath, 'r').read()\n",
    "\n",
    "print(len(text))\n",
    "print(text[0:100])"
   ]
  },
  {
   "cell_type": "code",
   "execution_count": null,
   "metadata": {},
   "outputs": [],
   "source": [
    "# 1. 生成词表\n",
    "# 2. 建立映射 char -> id\n",
    "# 3. data -> id\n",
    "# 4. 定义模型的输入和输出\n",
    "\n",
    "# 1. 生成词表\n",
    "vocab = sorted(set(text))  # 新建一个set对象, set会将重复的字符去掉因此可以用来当做词表\n",
    "print(len(vocab))\n",
    "print(vocab)"
   ]
  },
  {
   "cell_type": "code",
   "execution_count": null,
   "metadata": {},
   "outputs": [],
   "source": [
    "# 2. 建立映射 char -> id\n",
    "char2idx = {char: idx for idx, char in enumerate(vocab)}\n",
    "print(char2idx)"
   ]
  },
  {
   "cell_type": "code",
   "execution_count": null,
   "metadata": {},
   "outputs": [],
   "source": [
    "idx2char = np.array(vocab)\n",
    "print(idx2char)"
   ]
  },
  {
   "cell_type": "code",
   "execution_count": null,
   "metadata": {},
   "outputs": [],
   "source": [
    "# 3. data -> id\n",
    "text_as_int = np.array([char2idx[c] for c in text])\n",
    "print(text_as_int[0:10])\n",
    "print(text[0:10])"
   ]
  },
  {
   "cell_type": "code",
   "execution_count": null,
   "metadata": {},
   "outputs": [],
   "source": [
    "# 4. 定义模型的输入和输出\n",
    "def split_input_target(id_text):\n",
    "    return id_text[0:-1], id_text[1:]\n",
    "\n",
    "# 字符数据集\n",
    "char_dataset = tf.data.Dataset.from_tensor_slices(text_as_int)\n",
    "seq_length = 100\n",
    "# 等长分割(长度为seq_length)，不是按照完整的句子/单词结构\n",
    "# 句子数据集\n",
    "seq_dataset = char_dataset.batch(seq_length + 1, drop_remainder = True)  # drop_remainder=True,batch做到最后多出来的数据丢掉\n",
    "\n",
    "for ch_id in char_dataset.take(2):\n",
    "    print(ch_id, idx2char[ch_id.numpy()])\n",
    "for seq_id in seq_dataset.take(2):\n",
    "    print(seq_id)\n",
    "    print(repr(''.join(idx2char[seq_id.numpy()])))"
   ]
  },
  {
   "cell_type": "code",
   "execution_count": null,
   "metadata": {},
   "outputs": [],
   "source": [
    "# 拆分输入和输出\n",
    "seq_dataset = seq_dataset.map(split_input_target)\n",
    "for item_input, item_output in seq_dataset.take(1):\n",
    "    print(item_input.numpy())\n",
    "    print(item_output.numpy())"
   ]
  },
  {
   "cell_type": "markdown",
   "metadata": {},
   "source": [
    "## 构建模型"
   ]
  },
  {
   "cell_type": "code",
   "execution_count": null,
   "metadata": {},
   "outputs": [],
   "source": [
    "batch_size = 64\n",
    "buffer_size = 10000\n",
    "seq_dataset = seq_dataset.shuffle(buffer_size).batch(batch_size, drop_remainder=True)"
   ]
  },
  {
   "cell_type": "code",
   "execution_count": null,
   "metadata": {},
   "outputs": [],
   "source": [
    "vocab_size = len(vocab)\n",
    "embedding_dim = 256\n",
    "rnn_units = 1024\n",
    "\n",
    "def build_model(vocab_size, embedding_dim, rnn_units, batch_size):\n",
    "    model = keras.models.Sequential([\n",
    "        keras.layers.Embedding(vocab_size, embedding_dim, batch_input_shape=[batch_size, None]),\n",
    "        keras.layers.SimpleRNN(units=rnn_units, return_sequences=True),\n",
    "        keras.layers.Dense(vocab_size)\n",
    "    ])\n",
    "    return model\n",
    "\n",
    "model = build_model(vocab_size, embedding_dim, rnn_units, batch_size)\n",
    "\n",
    "model.summary()"
   ]
  },
  {
   "cell_type": "code",
   "execution_count": null,
   "metadata": {},
   "outputs": [],
   "source": [
    "for input_batch, target_batch in seq_dataset.take(1):\n",
    "    batch_prediction = model(input_batch)\n",
    "    print(batch_prediction.shape)"
   ]
  },
  {
   "cell_type": "code",
   "execution_count": null,
   "metadata": {},
   "outputs": [],
   "source": [
    "# 随机采样\n",
    "# 采用概率最大的字符作为预测值：贪心策略(greedy)，只能产生一个序列；采用随机采样的方式来输出预测值：随机策略(random),能产生多个序列\n",
    "sample_indices = tf.random.categorical(logits = batch_prediction[0], # batch_prediction[0]: [100, 65]  # logits：对于分类任务来说，计算softmax之前的值成为logits\n",
    "                                       num_samples = 1   # 随机采样几个数\n",
    "                                       )\n",
    "print(sample_indices.shape)\n",
    "sample_indices = tf.squeeze(sample_indices, axis=-1)  # 去掉一个多余的维度\n",
    "print(sample_indices.shape)"
   ]
  },
  {
   "cell_type": "code",
   "execution_count": null,
   "metadata": {},
   "outputs": [],
   "source": [
    "print(\"Input: \", repr(\"\".join(idx2char[input_batch[0]])))\n",
    "print(\"Output: \", repr(\"\".join(idx2char[target_batch[0]])))\n",
    "print(\"Predictions: \", repr(\"\".join(idx2char[sample_indices])))"
   ]
  },
  {
   "cell_type": "code",
   "execution_count": null,
   "metadata": {},
   "outputs": [],
   "source": [
    "# 自定义损失函数\n",
    "def loss(labels, logits):\n",
    "    return keras.losses.sparse_categorical_crossentropy(labels, logits, from_logits=True)  # 默认是以概率分布(经过softmax激活函数)和labels为输入,在这里以logits作为输入，因此要设from_logits=True\n",
    "\n",
    "model.compile(optimizer='adam', loss=loss)\n",
    "example_loss = loss(target_batch, batch_prediction)\n",
    "print(example_loss.shape)\n",
    "print(example_loss.numpy().mean())"
   ]
  },
  {
   "cell_type": "code",
   "execution_count": null,
   "metadata": {},
   "outputs": [],
   "source": [
    "# 训练模型 将模型保存下来\n",
    "output_dir = './text_generation_checkpoints'\n",
    "if not os.path.exists(output_dir):\n",
    "    os.mkdir(output_dir)\n",
    "checkpoint_prefix = os.path.join(output_dir, 'ckpt_{epoch}')\n",
    "checkpoint_callback = keras.callbacks.ModelCheckpoint(filepath=checkpoint_prefix, save_weights_only=True)\n",
    "epochs = 100\n",
    "history = model.fit(seq_dataset, epochs=epochs, callbacks=[checkpoint_callback])"
   ]
  },
  {
   "cell_type": "code",
   "execution_count": null,
   "metadata": {},
   "outputs": [],
   "source": [
    "tf.train.latest_checkpoint(output_dir)"
   ]
  },
  {
   "cell_type": "code",
   "execution_count": null,
   "metadata": {},
   "outputs": [],
   "source": [
    "# 有checkpoint载入模型  用于预测\n",
    "model2 = build_model(vocab_size, embedding_dim, rnn_units, batch_size=1)   # batch_size=1: 预测时一次只生成一个句子\n",
    "model2.load_weights(tf.train.lastest_checkpoint(output_dir))\n",
    "model2.build(tf.TensorShape([1, None])) # 设置输入的size, 1表示输入一个样本，None指输入变长的句子\n",
    "model2.summary()"
   ]
  },
  {
   "cell_type": "code",
   "execution_count": null,
   "metadata": {},
   "outputs": [],
   "source": [
    "# 文本生成\n",
    "# start char sequence A,\n",
    "# A -> model -> b\n",
    "# A.append(b) -> B\n",
    "# B -> model -> c\n",
    "# B.append(c) -> C\n",
    "# ...\n",
    "def generate_text(model, start_string, num_generate=1000):\n",
    "    input_eval = [char2idx[ch] for ch in start_string]\n",
    "    input_eval = tf.expand_dims(input_eval, 0)  # 增加一个维度，因为模型的输入是[1, None]\n",
    "    text_generated = []  # 用于存放生成的字符\n",
    "    model.reset_states()\n",
    "    for _ in range(num_generate):\n",
    "        # 1. input_eval model ingerence -> predictions\n",
    "        # 2. sample -> char ->text_generate\n",
    "        # 3. update input_eval\n",
    "        # predictions: [batch_size, len(input_eval), vocab_size]\n",
    "        predictions = model(input_eval)\n",
    "        # predictions: [batch_size, len(input_eval), vocab_size] -> [len(input_eval), vocab_size]\n",
    "        predictions = tf.squeeze(predictions, 0)\n",
    "        # predicted_ids: [len(input_eval, 1)]\n",
    "        predicted_ids = tf.random.categorical(predictions, num_samples=1)\n",
    "        predicted_id = predicted_ids[-1, 0].numpy()\n",
    "        text_generated.append(idx2char[predicted_id])\n",
    "        # s, x -> rnn -> s', y 只需要一个字符作为输入\n",
    "        input_eval = tf.expand_dims([predicted_id], 0)\n",
    "    return start_string + ''.join(text_generated)\n",
    "new_text = generate_text(model2, 'All: ')\n",
    "print(new_text)"
   ]
  }
 ],
 "metadata": {
  "kernelspec": {
   "display_name": "Python 3",
   "language": "python",
   "name": "python3"
  },
  "language_info": {
   "codemirror_mode": {
    "name": "ipython",
    "version": 3
   },
   "file_extension": ".py",
   "mimetype": "text/x-python",
   "name": "python",
   "nbconvert_exporter": "python",
   "pygments_lexer": "ipython3",
   "version": "3.7.6"
  }
 },
 "nbformat": 4,
 "nbformat_minor": 4
}
