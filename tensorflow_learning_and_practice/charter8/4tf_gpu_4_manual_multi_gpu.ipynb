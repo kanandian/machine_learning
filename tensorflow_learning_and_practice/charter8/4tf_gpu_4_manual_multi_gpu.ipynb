{
 "cells": [
  {
   "cell_type": "code",
   "execution_count": 1,
   "metadata": {},
   "outputs": [
    {
     "name": "stdout",
     "output_type": "stream",
     "text": [
      "2.0.0\n",
      "sys.version_info(major=3, minor=7, micro=6, releaselevel='final', serial=0)\n",
      "matplotlib 3.1.3\n",
      "numpy 1.18.1\n",
      "pandas 1.0.1\n",
      "sklearn 0.22.1\n",
      "tensorflow 2.0.0\n",
      "tensorflow_core.keras 2.2.4-tf\n"
     ]
    }
   ],
   "source": [
    "import matplotlib as mpl\n",
    "import matplotlib.pyplot as plt\n",
    "%matplotlib inline\n",
    "import numpy as np\n",
    "import sklearn\n",
    "import pandas as pd\n",
    "import os\n",
    "import sys\n",
    "import time\n",
    "import tensorflow as tf\n",
    "\n",
    "from tensorflow import keras\n",
    "\n",
    "print(tf.__version__)\n",
    "print(sys.version_info)\n",
    "for module in mpl, np, pd, sklearn, tf, keras:\n",
    "    print(module.__name__, module.__version__)\n"
   ]
  },
  {
   "cell_type": "markdown",
   "metadata": {},
   "source": [
    "## 设置GPU"
   ]
  },
  {
   "cell_type": "code",
   "execution_count": 2,
   "metadata": {},
   "outputs": [
    {
     "name": "stdout",
     "output_type": "stream",
     "text": [
      "1\n",
      "1\n"
     ]
    }
   ],
   "source": [
    "tf.debugging.set_log_device_placement(True)   # 打印模型的GPU分布\n",
    "gpus = tf.config.experimental.list_physical_devices('GPU')  # 获取所有的GPU\n",
    "tf.config.set_soft_device_placement(True)   # 自动找到可以进行相应计算的设备，然后把计算交给找到的设备，此时不需要tf.device\n",
    "# GPU设置内存自增长\n",
    "for gpu in gpus:\n",
    "    tf.config.experimental.set_memory_growth(gpu, True)\n",
    "print(len(gpus))\n",
    "logical_gpu = tf.config.experimental.list_logical_devices('GPU')  # 获取所有的逻辑GPU\n",
    "print(len(logical_gpu))"
   ]
  },
  {
   "cell_type": "markdown",
   "metadata": {},
   "source": [
    "### 手动设置多GPU（使用tf.device）"
   ]
  },
  {
   "cell_type": "code",
   "execution_count": null,
   "metadata": {},
   "outputs": [],
   "source": [
    "c = []\n",
    "for gpu in logical_gpus:   # 使用每个GPU进行a和b的矩阵乘法\n",
    "    print(gpu.name)\n",
    "    with tf.device(gpu.name): \n",
    "        a = tf.constant([[1., 2., 3.], [4., 5., 6.]])\n",
    "        b = tf.constant([[1., 2.], [3., 4.]], [5., 6.])\n",
    "        c.append(tf.matmul(a, b))\n",
    "\n",
    "with tf.device('/CPU:0'): # 使用CPU将所有矩阵运算的结果加起来\n",
    "    matmul_sum = tf.add_n(c)\n",
    "print(matmul_sum)"
   ]
  },
  {
   "cell_type": "code",
   "execution_count": null,
   "metadata": {},
   "outputs": [],
   "source": [
    "# # 构建模型时使用（仅示例 无法运行） 也无法并行\n",
    "# model = keras.models.Sequential()\n",
    "# with tf.device(logical_gpu[0].name):\n",
    "#     model.add()\n",
    "#     model.add()\n",
    "# with tf.device(logical_gpu[1].name):\n",
    "#     model.add()\n",
    "    \n",
    "# model.compile()\n",
    "# model.fit()\n",
    "# ''''''"
   ]
  }
 ],
 "metadata": {
  "kernelspec": {
   "display_name": "Python 3",
   "language": "python",
   "name": "python3"
  },
  "language_info": {
   "codemirror_mode": {
    "name": "ipython",
    "version": 3
   },
   "file_extension": ".py",
   "mimetype": "text/x-python",
   "name": "python",
   "nbconvert_exporter": "python",
   "pygments_lexer": "ipython3",
   "version": "3.7.6"
  }
 },
 "nbformat": 4,
 "nbformat_minor": 2
}
