{
 "cells": [
  {
   "cell_type": "code",
   "execution_count": 2,
   "metadata": {},
   "outputs": [
    {
     "name": "stdout",
     "output_type": "stream",
     "text": [
      "2.0.0\n",
      "sys.version_info(major=3, minor=7, micro=6, releaselevel='final', serial=0)\n",
      "matplotlib 3.1.3\n",
      "numpy 1.18.1\n",
      "pandas 1.0.1\n",
      "sklearn 0.22.1\n",
      "tensorflow 2.0.0\n",
      "tensorflow_core.keras 2.2.4-tf\n"
     ]
    }
   ],
   "source": [
    "import matplotlib as mpl\n",
    "import matplotlib.pyplot as plt\n",
    "%matplotlib inline\n",
    "import numpy as np\n",
    "import sklearn\n",
    "import pandas as pd\n",
    "import os\n",
    "import sys\n",
    "import time\n",
    "import tensorflow as tf\n",
    "\n",
    "from tensorflow import keras\n",
    "\n",
    "print(tf.__version__)\n",
    "print(sys.version_info)\n",
    "for module in mpl, np, pd, sklearn, tf, keras:\n",
    "    print(module.__name__, module.__version__)\n"
   ]
  },
  {
   "cell_type": "markdown",
   "metadata": {},
   "source": [
    "## 设置GPU"
   ]
  },
  {
   "cell_type": "code",
   "execution_count": null,
   "metadata": {},
   "outputs": [],
   "source": [
    "tf.debugging.set_log_device_placement(True)   # 打印模型的GPU分布\n",
    "gpus = tf.config.experimental.list_physical_devices('GPU')  # 获取所有的GPU\n",
    "# GPU设置内存自增长\n",
    "for gpu in gpus:\n",
    "    tf.config.experimental.set_memory_growth(gpu, True)\n",
    "print(len(gpus))\n",
    "logical_gpu = tf.config.experimental.list_logical_devices('GPU')  # 获取所有的逻辑GPU\n",
    "print(len(logical_gpu))"
   ]
  },
  {
   "cell_type": "markdown",
   "metadata": {},
   "source": [
    "## 处理数据"
   ]
  },
  {
   "cell_type": "markdown",
   "metadata": {},
   "source": [
    "### 读取数据"
   ]
  },
  {
   "cell_type": "code",
   "execution_count": null,
   "metadata": {},
   "outputs": [],
   "source": [
    "fashion_mnist = keras.datasets.fashion_mnist\n",
    "(x_train_all, y_train_all), (x_test, y_test) = fashion_mnist.load_data()\n",
    "x_valid, x_train = x_train_all[:5000], x_train_all[5000:]\n",
    "y_valid, y_train = y_train_all[:5000], y_train_all[5000:]\n",
    "\n",
    "print(x_valid.shape, y_valid.shape)\n",
    "print(x_train.shape, y_train.shape)\n",
    "print(x_test.shape, y_test.shape)"
   ]
  },
  {
   "cell_type": "code",
   "execution_count": null,
   "metadata": {},
   "outputs": [],
   "source": [
    "from sklearn.preprocessing import StandardScaler\n",
    "\n",
    "scaler = StandardScaler()\n",
    "x_train_scaled = scaler.fit_transform(\n",
    "    x_train.astype(np.float32).reshape(-1, 1)).reshape(-1, 28, 28, 1)\n",
    "x_valid_scaled = scaler.transform(\n",
    "    x_valid.astype(np.float32).reshape(-1, 1)).reshape(-1, 28, 28, 1)\n",
    "x_test_scaled = scaler.transform(\n",
    "    x_test.astype(np.float32).reshape(-1, 1)).reshape(-1, 28, 28, 1)\n"
   ]
  },
  {
   "cell_type": "markdown",
   "metadata": {},
   "source": [
    "### 生成dataset"
   ]
  },
  {
   "cell_type": "code",
   "execution_count": null,
   "metadata": {},
   "outputs": [],
   "source": [
    "def make_dataset(images, labels, epochs, batsh_size, shuffle=True):\n",
    "    dataset = tf.data.Dataset.from_tensor_slices((images, labels))\n",
    "    if shuffle:\n",
    "        dataset = dataset.shuffle(10000)\n",
    "    dataset = dataset.repeat(epochs).batch(batch_size).prefetch(50)   # prefetch: 从训练集中预先取出多少个数据为训练做准备，用来加速\n",
    "    return dataset\n",
    "\n",
    "strategy = tf.distribute.MirroredStrategy()\n",
    "with strategy.scope():\n",
    "    epochs = 1\n",
    "    batch_size = 128\n",
    "    train_dataset = make_dataset(x_train_scaled, y_train, epochs, batch_size)\n",
    "    valid_dataset = make_dataset(x_valid_scaled, y_valid, epochs, batch_size)\n",
    "    train_dataset_distribute = strategy.experimental_distribute_dataset(train_dataset)\n",
    "    valid_dataset_distribute = strategy.experimental_distribute_dataset(valid_dataset)"
   ]
  },
  {
   "cell_type": "markdown",
   "metadata": {},
   "source": [
    "## 实现卷积神经网络模型"
   ]
  },
  {
   "cell_type": "code",
   "execution_count": null,
   "metadata": {},
   "outputs": [],
   "source": [
    "with strategy.scope():\n",
    "    model = keras.models.Sequential()\n",
    "    model.add(keras.layers.Conv2D(filters=32, \n",
    "                                  kernel_size=3, \n",
    "                                  padding='same', \n",
    "                                  activation='relu', \n",
    "                                  input_shape=(28, 28, 1)))\n",
    "    model.add(keras.layers.Conv2D(filters=32, \n",
    "                                  kernel_size=3, \n",
    "                                  padding='same', \n",
    "                                  activation='relu', \n",
    "                                  input_shape=(28, 28, 1)))\n",
    "    model.add(keras.layers.MaxPool2D(pool_size=2))\n",
    "    model.add(keras.layers.Conv2D(filters=64,    # 在maxpooling后一般会将filters的值翻倍，以缓解maxpooling带来的参数损失 \n",
    "                                  kernel_size=3, \n",
    "                                  padding='same', \n",
    "                                  activation='relu'))\n",
    "    model.add(keras.layers.Conv2D(filters=64, \n",
    "                                  kernel_size=3, \n",
    "                                  padding='same', \n",
    "                                  activation='relu', \n",
    "                                  input_shape=(28, 28, 1)))\n",
    "    model.add(keras.layers.MaxPool2D(pool_size=2))\n",
    "    model.add(keras.layers.Conv2D(filters=128, \n",
    "                                  kernel_size=3, \n",
    "                                  padding='same', \n",
    "                                  activation='relu', \n",
    "                                  input_shape=(28, 28, 1)))\n",
    "    model.add(keras.layers.Conv2D(filters=128, \n",
    "                                  kernel_size=3, \n",
    "                                  padding='same', \n",
    "                                  activation='relu'))\n",
    "    model.add(keras.layers.MaxPool2D(pool_size=2))\n",
    "\n",
    "    model.add(keras.layers.Flatten())\n",
    "    model.add(keras.layers.Dense(128, activation='relu'))\n",
    "    model.add(keras.layers.Dense(10, activation='softmax'))"
   ]
  },
  {
   "cell_type": "markdown",
   "metadata": {},
   "source": [
    "## 自定义流程去掉model.compile函数，并手写fit函数"
   ]
  },
  {
   "cell_type": "code",
   "execution_count": null,
   "metadata": {
    "scrolled": true
   },
   "outputs": [],
   "source": [
    "# 自定义训练流程\n",
    "# 1.define loss function\n",
    "# 2.define function train_step(for training)\n",
    "# 3.define function test_step(for evaluate)\n",
    "# 4.for-loop trainint loop\n",
    "\n",
    "with strategy.scope():\n",
    "    # 1.define loss function\n",
    "    loss_func = keras.losses.SparseCategoricalCrossentropy(\n",
    "        reduction=keras.losses.Reduction.None   # reduction:计算完一个batch所有样本的损失函数之后如何进行聚合，这里指定求和\n",
    "    )\n",
    "    # 定义累计值（keras.metrics里面的函数都可以累计）\n",
    "    test_loss = keras.metrics.Mean(name='test_loss')\n",
    "    train_accuracy = keras.metrics.SparseCategoricalAccuracy(name='train_accuracy')\n",
    "    test_accuracy = keras.metrics.SparseCategoricalAccuracy(name='test_accuracy')\n",
    "\n",
    "    # 2.define function train_step(for training)\n",
    "    optimizer = keras.optimizers.SGD(lr=0.01)\n",
    "    @tf.function  # 和图计算有关，可以用@tf.function加速\n",
    "    def train_step(inputs):\n",
    "        images, labels = inputs\n",
    "        # 计算梯度\n",
    "        with tf.GradientTape() as tape:\n",
    "            predictions = model(images, training=True)\n",
    "            loss = loss_func(labels, predictions)\n",
    "        gradients = tape.gradient(loss, model.trainable_variables)\n",
    "        optimizer.apply_gradients(zip(gradients, model.trainable_variables))\n",
    "        # 更新train_accuracy\n",
    "        train_accuracy.update_state(labels, predictions)\n",
    "        return loss\n",
    "\n",
    "    # 3.define function test_step(for evaluate)\n",
    "    @tf.function\n",
    "    def test_step(inputs):\n",
    "        images, labels = inputs\n",
    "        predictions = model(images)\n",
    "        loss = loss_func(labels, predictions)\n",
    "        test_loss.update_state(loss)\n",
    "        test_accuracy.update_state(labels, predictions)\n",
    "\n",
    "    epochs = 10\n",
    "    for epoch in range(epochs):\n",
    "        total_loss = 0.0\n",
    "        num_batches = 0\n",
    "        for x in train_dataset:\n",
    "            start_time = time.time()\n",
    "            total_loss += train_step(x)\n",
    "            runtime = time.time()-start_time\n",
    "            num_batches += 1\n",
    "            print('\\rtotal loss: %3.3f, num_batches: %d, average_loss: %3.3f, time: %3.3f' % \n",
    "                  (total_loss, num_batches, total_loss / num_batches, runtime), end='')\n",
    "        train_loss = total_loss / num_batches\n",
    "        for x in valid_dataset:\n",
    "            test_step(x)\n",
    "        print('\\rEpoch: %d, Loss: %3.3f, Acc: %3.3f, Val_Loss: %3.3f, Val_Acc: %3.3f' % \n",
    "             (epoch+1, train_loss, train_accuracy.result(), test_loss.result(), test_accuracy.result()))\n",
    "        test_loss.reset_states()\n",
    "        train_accuracy.reset_states()\n",
    "        test_accuracy.reset_states()"
   ]
  },
  {
   "cell_type": "code",
   "execution_count": null,
   "metadata": {},
   "outputs": [],
   "source": []
  }
 ],
 "metadata": {
  "kernelspec": {
   "display_name": "Python 3",
   "language": "python",
   "name": "python3"
  },
  "language_info": {
   "codemirror_mode": {
    "name": "ipython",
    "version": 3
   },
   "file_extension": ".py",
   "mimetype": "text/x-python",
   "name": "python",
   "nbconvert_exporter": "python",
   "pygments_lexer": "ipython3",
   "version": "3.7.6"
  }
 },
 "nbformat": 4,
 "nbformat_minor": 2
}
