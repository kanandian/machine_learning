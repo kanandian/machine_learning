{
 "cells": [
  {
   "cell_type": "code",
   "execution_count": 1,
   "metadata": {},
   "outputs": [
    {
     "name": "stdout",
     "output_type": "stream",
     "text": [
      "1.15.0\n",
      "sys.version_info(major=3, minor=7, micro=6, releaselevel='final', serial=0)\n",
      "matplotlib 3.1.3\n",
      "numpy 1.18.1\n",
      "pandas 1.0.0\n",
      "sklearn 0.22.1\n",
      "tensorflow 1.15.0\n",
      "tensorflow.python.keras.api._v1.keras 2.2.4-tf\n"
     ]
    }
   ],
   "source": [
    "import matplotlib as mpl\n",
    "import matplotlib.pyplot as plt\n",
    "%matplotlib inline\n",
    "import numpy as np\n",
    "import sklearn\n",
    "import pandas as pd\n",
    "import os\n",
    "import sys\n",
    "import time\n",
    "import tensorflow as tf\n",
    "\n",
    "from tensorflow import keras\n",
    "\n",
    "print(tf.__version__)\n",
    "print(sys.version_info)\n",
    "for module in mpl, np, pd, sklearn, tf, keras:\n",
    "    print(module.__name__, module.__version__)\n"
   ]
  },
  {
   "cell_type": "markdown",
   "metadata": {},
   "source": [
    "## 读取数据并进行预处理"
   ]
  },
  {
   "cell_type": "code",
   "execution_count": 2,
   "metadata": {},
   "outputs": [
    {
     "name": "stdout",
     "output_type": "stream",
     "text": [
      "(5000, 28, 28) (5000,)\n",
      "(55000, 28, 28) (55000,)\n",
      "(10000, 28, 28) (10000,)\n"
     ]
    }
   ],
   "source": [
    "fashion_mnist = keras.datasets.fashion_mnist\n",
    "(x_train_all, y_train_all), (x_test, y_test) = fashion_mnist.load_data()\n",
    "x_valid, x_train = x_train_all[:5000], x_train_all[5000:]\n",
    "y_valid, y_train = y_train_all[:5000], y_train_all[5000:]\n",
    "\n",
    "print(x_valid.shape, y_valid.shape)\n",
    "print(x_train.shape, y_train.shape)\n",
    "print(x_test.shape, y_test.shape)"
   ]
  },
  {
   "cell_type": "code",
   "execution_count": 3,
   "metadata": {},
   "outputs": [
    {
     "name": "stdout",
     "output_type": "stream",
     "text": [
      "255 0\n"
     ]
    }
   ],
   "source": [
    "print(np.max(x_train), np.min(x_train))"
   ]
  },
  {
   "cell_type": "code",
   "execution_count": 4,
   "metadata": {},
   "outputs": [],
   "source": [
    "# x = (x - u) / std\n",
    "\n",
    "from sklearn.preprocessing import StandardScaler\n",
    "\n",
    "scaler = StandardScaler()\n",
    "# x_train: [None, 28, 28] -> [None, 784]\n",
    "x_train_scaled = scaler.fit_transform(\n",
    "    x_train.astype(np.float32).reshape(-1, 1)).reshape(-1, 28 * 28)\n",
    "x_valid_scaled = scaler.transform(\n",
    "    x_valid.astype(np.float32).reshape(-1, 1)).reshape(-1, 28 * 28)\n",
    "x_test_scaled = scaler.transform(\n",
    "    x_test.astype(np.float32).reshape(-1, 1)).reshape(-1, 28 * 28)\n"
   ]
  },
  {
   "cell_type": "code",
   "execution_count": 5,
   "metadata": {},
   "outputs": [
    {
     "name": "stdout",
     "output_type": "stream",
     "text": [
      "2.0231433 -0.8105136\n"
     ]
    }
   ],
   "source": [
    "print(np.max(x_train_scaled), np.min(x_train_scaled))"
   ]
  },
  {
   "cell_type": "markdown",
   "metadata": {},
   "source": [
    "## 使用tensorflow1进行模型搭建"
   ]
  },
  {
   "cell_type": "markdown",
   "metadata": {},
   "source": [
    "### 构建图"
   ]
  },
  {
   "cell_type": "code",
   "execution_count": 7,
   "metadata": {},
   "outputs": [],
   "source": [
    "# 网络结构\n",
    "hidden_units = [100, 100]\n",
    "class_num = 10\n",
    "x = tf.placeholder(tf.float32, [None, 28 * 28])\n",
    "y = tf.placeholder(tf.int64, [None])\n",
    "\n",
    "input_for_next_layer = x\n",
    "for hidden_unit in hidden_units:\n",
    "    input_for_next_layer = tf.layers.dense(input_for_next_layer, hidden_unit, activation=tf.nn.relu)\n",
    "logits = tf.layers.dense(input_for_next_layer, class_num)\n",
    "# sparse_softmax_cross_entropy函数作用\n",
    "# 1. logit -> softmax -> prob\n",
    "# 2. labels -> one_hot\n",
    "# 3. calculate cross entropy\n",
    "loss = tf.losses.sparse_softmax_cross_entropy(labels=y, logits=logits)\n",
    "\n",
    "# 获取accuracy\n",
    "prediction = tf.argmax(logits, 1)\n",
    "correct_prediction = tf.equal(prediction, y)\n",
    "accuracy = tf.reduce_mean(tf.cast(correct_prediction, tf.float64))\n",
    "\n",
    "# train_op 用于训练模型 每调用一次相当于train一次\n",
    "train_op = tf.train.AdamOptimizer(1e-3).minimize(loss)"
   ]
  },
  {
   "cell_type": "code",
   "execution_count": 8,
   "metadata": {},
   "outputs": [
    {
     "name": "stdout",
     "output_type": "stream",
     "text": [
      "Tensor(\"Placeholder_2:0\", shape=(?, 784), dtype=float32)\n",
      "Tensor(\"dense_5/BiasAdd:0\", shape=(?, 10), dtype=float32)\n"
     ]
    }
   ],
   "source": [
    "print(x)\n",
    "print(logits)"
   ]
  },
  {
   "cell_type": "markdown",
   "metadata": {},
   "source": [
    "### 运行图"
   ]
  },
  {
   "cell_type": "code",
   "execution_count": 9,
   "metadata": {},
   "outputs": [
    {
     "name": "stdout",
     "output_type": "stream",
     "text": [
      "[Train] epoch: 0, step: 2749, loss: 0.281, accuracy: 0.85 \t[Valid] acc: 0.80\n",
      "[Train] epoch: 1, step: 2749, loss: 0.181, accuracy: 0.90 \t[Valid] acc: 0.85\n",
      "[Train] epoch: 2, step: 2749, loss: 0.132, accuracy: 0.90 \t[Valid] acc: 0.85\n",
      "[Train] epoch: 3, step: 2749, loss: 0.096, accuracy: 1.00 \t[Valid] acc: 0.90\n",
      "[Train] epoch: 4, step: 2749, loss: 0.093, accuracy: 0.95 \t[Valid] acc: 0.90\n",
      "[Train] epoch: 5, step: 2749, loss: 0.086, accuracy: 0.95 \t[Valid] acc: 0.90\n",
      "[Train] epoch: 6, step: 2749, loss: 0.083, accuracy: 0.95 \t[Valid] acc: 0.90\n",
      "[Train] epoch: 7, step: 2749, loss: 0.156, accuracy: 0.90 \t[Valid] acc: 0.90\n",
      "[Train] epoch: 8, step: 2749, loss: 0.131, accuracy: 0.90 \t[Valid] acc: 0.90\n",
      "[Train] epoch: 9, step: 2749, loss: 0.078, accuracy: 1.00 \t[Valid] acc: 0.90\n"
     ]
    }
   ],
   "source": [
    "# 使用session与图进行交互\n",
    "# 先定义一些变量\n",
    "init = tf.global_variables_initializer()\n",
    "batch_size = 20\n",
    "epochs = 10\n",
    "train_steps_per_epoch = x_train.shape[0] // batch_size\n",
    "valid_steps = x_valid.shape[0] // batch_size\n",
    "\n",
    "# 验证\n",
    "def eval_with_session(session, x, y, accuracy, images, labels, batch_size):\n",
    "    eval_steps = images.shape[0] // batch_size\n",
    "    eval_accuracies = []\n",
    "    for step in range(eval_steps):\n",
    "        batch_data = images[step * batch_size : (step + 1)* batch_size]\n",
    "        batch_label = labels[step * batch_size : (step + 1)* batch_size]\n",
    "        accuracy_val = session.run(accuracy, feed_dict = {\n",
    "            x: batch_data,\n",
    "            y: batch_label\n",
    "        })\n",
    "        eval_accuracies.append(accuracy_val)\n",
    "        return np.mean(eval_accuracies)\n",
    "\n",
    "# 打开session\n",
    "with tf.Session() as session:\n",
    "    session.run(init)   # 运行初始化，之后图才能被构建和调用\n",
    "    for epoch in range(epochs):\n",
    "        for step in range(train_steps_per_epoch):\n",
    "            batch_data = x_train_scaled[step * batch_size : (step + 1)* batch_size]\n",
    "            batch_label = y_train[step * batch_size : (step + 1)* batch_size]\n",
    "            # loss, accuracy, train_op 都是算子，且可以一起运算\n",
    "            loss_val, accuracy_val, _ = session.run([loss, accuracy, train_op], feed_dict = {  # feed_dict将placeholder与数据对应起来\n",
    "                x: batch_data,\n",
    "                y: batch_label\n",
    "            })\n",
    "            print('\\r[Train] epoch: %d, step: %d, loss: %3.3f, accuracy: %2.2f' % (epoch, step, loss_val, accuracy_val), end=\" \")\n",
    "        valid_accuracy = eval_with_session(session, x, y, accuracy, x_valid_scaled, y_valid, batch_size)\n",
    "        print('\\t[Valid] acc: %2.2f' % (valid_accuracy))"
   ]
  },
  {
   "cell_type": "code",
   "execution_count": null,
   "metadata": {},
   "outputs": [],
   "source": []
  }
 ],
 "metadata": {
  "kernelspec": {
   "display_name": "Python 3",
   "language": "python",
   "name": "python3"
  },
  "language_info": {
   "codemirror_mode": {
    "name": "ipython",
    "version": 3
   },
   "file_extension": ".py",
   "mimetype": "text/x-python",
   "name": "python",
   "nbconvert_exporter": "python",
   "pygments_lexer": "ipython3",
   "version": "3.7.6"
  }
 },
 "nbformat": 4,
 "nbformat_minor": 2
}
