{
 "cells": [
  {
   "cell_type": "code",
   "execution_count": 1,
   "metadata": {},
   "outputs": [
    {
     "name": "stdout",
     "output_type": "stream",
     "text": [
      "2.0.0\n",
      "sys.version_info(major=3, minor=7, micro=6, releaselevel='final', serial=0)\n",
      "matplotlib 3.1.3\n",
      "numpy 1.18.1\n",
      "pandas 1.0.1\n",
      "sklearn 0.22.1\n",
      "tensorflow 2.0.0\n",
      "tensorflow_core.keras 2.2.4-tf\n"
     ]
    }
   ],
   "source": [
    "import matplotlib as mpl\n",
    "import matplotlib.pyplot as plt\n",
    "%matplotlib inline\n",
    "import numpy as np\n",
    "import sklearn\n",
    "import pandas as pd\n",
    "import os\n",
    "import sys\n",
    "import time\n",
    "import tensorflow as tf\n",
    "\n",
    "from tensorflow import keras\n",
    "\n",
    "print(tf.__version__)\n",
    "print(sys.version_info)\n",
    "for module in mpl, np, pd, sklearn, tf, keras:\n",
    "    print(module.__name__, module.__version__)"
   ]
  },
  {
   "cell_type": "code",
   "execution_count": 2,
   "metadata": {},
   "outputs": [
    {
     "name": "stdout",
     "output_type": "stream",
     "text": [
      "[PhysicalDevice(name='/physical_device:GPU:0', device_type='GPU')]\n"
     ]
    }
   ],
   "source": [
    "# 设置gpu内存自增长\n",
    "gpus = tf.config.experimental.list_physical_devices('GPU')\n",
    "print(gpus)\n",
    "for gpu in gpus:\n",
    "    tf.config.experimental.set_memory_growth(gpu, True)"
   ]
  },
  {
   "cell_type": "markdown",
   "metadata": {},
   "source": [
    "## 步骤"
   ]
  },
  {
   "cell_type": "markdown",
   "metadata": {},
   "source": [
    "### 1. preprocessing data\n",
    "### 2. build model\n",
    "#### 2.1 encoder\n",
    "#### 2.2 attention\n",
    "#### 2.3 decoder\n",
    "#### 2.4 loss & optimizer\n",
    "#### 2.5 train\n",
    "### 3. evaluation\n",
    "#### 3.1 sentence -> translated results\n",
    "#### 3.2 visualize results(attention)"
   ]
  },
  {
   "cell_type": "markdown",
   "metadata": {},
   "source": [
    "## 1. 数据预处理"
   ]
  },
  {
   "cell_type": "code",
   "execution_count": 3,
   "metadata": {},
   "outputs": [
    {
     "name": "stdout",
     "output_type": "stream",
     "text": [
      "I'm next.\n",
      "Me toca a mi.\n"
     ]
    }
   ],
   "source": [
    "spa_en_file_path = './data_spa_en/spa.txt'\n",
    "\n",
    "# 将unicode转换成ascii\n",
    "import unicodedata\n",
    "def unicode_to_ascii(s):   # 西班牙语有些特殊字符使用unicode表示，因此这里转成ascii码，减少词表大小\n",
    "    return ''.join(c for c in unicodedata.normalize('NFD', s) if unicodedata.category(c) != 'Mn')  # Mn 代表重音，此处将西班牙语的重音忽略掉\n",
    "    \n",
    "en_sentence = 'I\\'m next.'\n",
    "sp_sentence = 'Me toca a mí.'\n",
    "\n",
    "print(unicode_to_ascii(en_sentence))\n",
    "print(unicode_to_ascii(sp_sentence))"
   ]
  },
  {
   "cell_type": "code",
   "execution_count": 4,
   "metadata": {},
   "outputs": [
    {
     "name": "stdout",
     "output_type": "stream",
     "text": [
      "<start> i m next . <end>\n",
      "<start> me toca a mi . <end>\n"
     ]
    }
   ],
   "source": [
    "# 对每个句子进行预处理\n",
    "import re\n",
    "def preprocess_sentence(s):\n",
    "    s = unicode_to_ascii(s.lower().strip())\n",
    "    s = re.sub(r'([?.!,¿¡])', r' \\1 ', s)   # 将句子s中所有的标点符号前后都加上空格 \n",
    "    s = re.sub(r'[\" \"]+', ' ', s)           # 多余的空格变成一个空格\n",
    "    s = re.sub(r'[^a-zA-Z?.!,¿¡]', ' ', s)  # 将除了字母标点符号之外的字符都替换成空格 \n",
    "    s = s.rstrip().strip()   # 去掉前后空格\n",
    "    s = '<start> ' + s + ' <end>'\n",
    "    return s\n",
    "\n",
    "print(preprocess_sentence(en_sentence))\n",
    "print(preprocess_sentence(sp_sentence))"
   ]
  },
  {
   "cell_type": "code",
   "execution_count": 5,
   "metadata": {},
   "outputs": [
    {
     "name": "stdout",
     "output_type": "stream",
     "text": [
      "<start> if you want to sound like a native speaker , you must be willing to practice saying the same sentence over and over in the same way that banjo players practice the same phrase over and over until they can play it correctly and at the desired tempo . <end>\n",
      "<start> si quieres sonar como un hablante nativo , debes estar dispuesto a practicar diciendo la misma frase una y otra vez de la misma manera en que un musico de banjo practica el mismo fraseo una y otra vez hasta que lo puedan tocar correctamente y en el tiempo esperado . <end>\n"
     ]
    }
   ],
   "source": [
    "# 读取文件并解析成dataset\n",
    "def parse_data(filename):\n",
    "    lines = open(filename, encoding='UTF-8').read().strip().split('\\n')\n",
    "    sentence_pairs = [line.split('\\t') for line in lines]\n",
    "    sentence_pairs = [\n",
    "        (preprocess_sentence(en), preprocess_sentence(sp)) for en, sp in sentence_pairs\n",
    "    ]\n",
    "    return zip(*sentence_pairs)\n",
    "\n",
    "en_dataset, sp_dataset = parse_data(spa_en_file_path)\n",
    "print(en_dataset[-1])\n",
    "print(sp_dataset[-1])"
   ]
  },
  {
   "cell_type": "code",
   "execution_count": 6,
   "metadata": {},
   "outputs": [
    {
     "name": "stdout",
     "output_type": "stream",
     "text": [
      "16 11\n"
     ]
    }
   ],
   "source": [
    "# 文本 -> id\n",
    "def tokenizer(lang):\n",
    "    lang_tokenizer = keras.preprocessing.text.Tokenizer(num_words=None, filters='', split=' ')\n",
    "    lang_tokenizer.fit_on_texts(lang)    # 生成词表\n",
    "    tensor = lang_tokenizer.texts_to_sequences(lang)  # 将text转成id\n",
    "    tensor = keras.preprocessing.sequence.pad_sequences(tensor, padding='post')  # 做padding\n",
    "    return tensor, lang_tokenizer\n",
    "\n",
    "input_tensor, input_tokenizer = tokenizer(sp_dataset[0:30000])    # 先去前30000个数据，看看模型是否能快速拟合，验证完之后用整个数据集训练\n",
    "output_tensor, output_tokenizer = tokenizer(en_dataset[0:30000])\n",
    "\n",
    "def max_length(tensor):\n",
    "    return max(len(t) for t in tensor)\n",
    "\n",
    "max_length_input = max_length(input_tensor)\n",
    "max_length_output = max_length(output_tensor)\n",
    "print(max_length_input, max_length_output)"
   ]
  },
  {
   "cell_type": "code",
   "execution_count": 7,
   "metadata": {},
   "outputs": [
    {
     "data": {
      "text/plain": [
       "(24000, 6000, 24000, 6000)"
      ]
     },
     "execution_count": 7,
     "metadata": {},
     "output_type": "execute_result"
    }
   ],
   "source": [
    "# 切分训练集和数据集\n",
    "from sklearn.model_selection import train_test_split\n",
    "input_train, input_eval, output_train, output_eval = train_test_split(input_tensor, output_tensor, test_size=0.2)  # 将20%的数据作为测试集\n",
    "len(input_train), len(input_eval), len(output_train), len(output_eval)"
   ]
  },
  {
   "cell_type": "code",
   "execution_count": 8,
   "metadata": {},
   "outputs": [],
   "source": [
    "def make_dataset(input_tensor, output_tensor, batch_size, epochs, shuffle):\n",
    "    dataset = tf.data.Dataset.from_tensor_slices((input_tensor, output_tensor))\n",
    "    if shuffle:\n",
    "        dataset = dataset.shuffle(30000)\n",
    "    dataset = dataset.repeat(epochs).batch(batch_size, drop_remainder=True)\n",
    "    return dataset\n",
    "\n",
    "batch_size = 64\n",
    "epochs = 20\n",
    "train_dataset = make_dataset(input_train, output_train, batch_size, epochs, True)\n",
    "eval_dataset = make_dataset(input_eval, output_eval, batch_size, 1, False)"
   ]
  },
  {
   "cell_type": "code",
   "execution_count": 9,
   "metadata": {},
   "outputs": [
    {
     "name": "stdout",
     "output_type": "stream",
     "text": [
      "(64, 16) (64, 11)\n",
      "tf.Tensor(\n",
      "[[  1 149   9 ...   0   0   0]\n",
      " [  1 737  18 ...   0   0   0]\n",
      " [  1  75  16 ...   0   0   0]\n",
      " ...\n",
      " [  1   6  46 ...   0   0   0]\n",
      " [  1  13 336 ...   0   0   0]\n",
      " [  1 310  35 ...   0   0   0]], shape=(64, 16), dtype=int32)\n",
      "tf.Tensor(\n",
      "[[   1    4  133  727    3    2    0    0    0    0    0]\n",
      " [   1   22   32    6   75    3    2    0    0    0    0]\n",
      " [   1  195    8  182    3    2    0    0    0    0    0]\n",
      " [   1   16   23 3271    3    2    0    0    0    0    0]\n",
      " [   1   10   11    9 1701  191    3    2    0    0    0]\n",
      " [   1   16   30   12   63    5    3    2    0    0    0]\n",
      " [   1  584    3   32   11  129   44    7    2    0    0]\n",
      " [   1  486   25   22   20    3    2    0    0    0    0]\n",
      " [   1  597    8   13  265    3    2    0    0    0    0]\n",
      " [   1   60   24   16  634    7    2    0    0    0    0]\n",
      " [   1    4   18 2877  148    3    2    0    0    0    0]\n",
      " [   1    4   18   39   54    6   49    5    3    2    0]\n",
      " [   1  351   33 1633    3    2    0    0    0    0    0]\n",
      " [   1    4   47    6   15  304   10    3    2    0    0]\n",
      " [   1    4   18  103   34  342    3    2    0    0    0]\n",
      " [   1    5    8   45   11 4512    3    2    0    0    0]\n",
      " [   1    4   95    6   44  215    3    2    0    0    0]\n",
      " [   1  157  173   17   20    3    2    0    0    0    0]\n",
      " [   1   28   23  798  214    3    2    0    0    0    0]\n",
      " [   1   52  119    6    7    2    0    0    0    0    0]\n",
      " [   1   27  253   41    3    2    0    0    0    0    0]\n",
      " [   1  188  401    6    3    2    0    0    0    0    0]\n",
      " [   1    4   38  302    6    3    2    0    0    0    0]\n",
      " [   1    4   30   12   43 1066    3    2    0    0    0]\n",
      " [   1   30   12   40   85 1745    3    2    0    0    0]\n",
      " [   1    5   26 4924    3    2    0    0    0    0    0]\n",
      " [   1    6   23  972    3    2    0    0    0    0    0]\n",
      " [   1    4   18   34  219  101   58    3    2    0    0]\n",
      " [   1    6   23 1371    3    2    0    0    0    0    0]\n",
      " [   1   32   11   20   54    7    2    0    0    0    0]\n",
      " [   1  379   11  348    3    2    0    0    0    0    0]\n",
      " [   1    5 3980   61 1511    3    2    0    0    0    0]\n",
      " [   1    6   24  273    3    2    0    0    0    0    0]\n",
      " [   1    4   29   15   36   15  245    3    2    0    0]\n",
      " [   1    6   92  186    3    2    0    0    0    0    0]\n",
      " [   1    5   76   45  241    3    2    0    0    0    0]\n",
      " [   1    4  114   10   11  252    3    2    0    0    0]\n",
      " [   1    6   29  359  787    3    2    0    0    0    0]\n",
      " [   1    4   43    6   24  326    3    2    0    0    0]\n",
      " [   1    6  440   17    9  733    3    2    0    0    0]\n",
      " [   1    4   38   22  219    6 4723    3    2    0    0]\n",
      " [   1   27   11   70    9  466    3    2    0    0    0]\n",
      " [   1    4   25  132   54    6    3    2    0    0    0]\n",
      " [   1   10   11  204   15 4412    3    2    0    0    0]\n",
      " [   1  102   21  462  152    3    2    0    0    0    0]\n",
      " [   1   32    9  223  445   37    2    0    0    0    0]\n",
      " [   1    5    8  673 1616    3    2    0    0    0    0]\n",
      " [   1   39   11   13 1282    3    2    0    0    0    0]\n",
      " [   1    6   23  625    3    2    0    0    0    0    0]\n",
      " [   1   46   17   64   31  890    3    2    0    0    0]\n",
      " [   1   71   11   13 2766    7    2    0    0    0    0]\n",
      " [   1    4   30   12   43    6    3    2    0    0    0]\n",
      " [   1  125  190   44    3    2    0    0    0    0    0]\n",
      " [   1    5  694  647    3    2    0    0    0    0    0]\n",
      " [   1   22    6   63   15   36    7    2    0    0    0]\n",
      " [   1  255   17   13  196    3    2    0    0    0    0]\n",
      " [   1   16   25   12 1025    3    2    0    0    0    0]\n",
      " [   1   19    8 2571    3    2    0    0    0    0    0]\n",
      " [   1   10   11   78  248    3    2    0    0    0    0]\n",
      " [   1  379  105    9 1085    3    2    0    0    0    0]\n",
      " [   1    5   76  417   13   83    3    2    0    0    0]\n",
      " [   1   52  271    4   43    7    2    0    0    0    0]\n",
      " [   1   13  812    8 4843    3    2    0    0    0    0]\n",
      " [   1    4  143   39    3    2    0    0    0    0    0]], shape=(64, 11), dtype=int32)\n"
     ]
    }
   ],
   "source": [
    "x = 1\n",
    "y = 1\n",
    "for x, y in train_dataset.take(1):\n",
    "    print(x.shape, y.shape)\n",
    "    print(x)\n",
    "    print(y)"
   ]
  },
  {
   "cell_type": "markdown",
   "metadata": {},
   "source": [
    "## 2. 构建模型"
   ]
  },
  {
   "cell_type": "code",
   "execution_count": 10,
   "metadata": {},
   "outputs": [],
   "source": [
    "# 定义一些超参数\n",
    "embedding_units = 256\n",
    "units = 1024    # RNN的units数量\n",
    "input_vocab_size = len(input_tokenizer.word_index) + 1  # input_tokenizer.word_index：一个单词到的字典\n",
    "output_vocab_size = len(output_tokenizer.word_index) + 1"
   ]
  },
  {
   "cell_type": "markdown",
   "metadata": {},
   "source": [
    "### 2.1 Encoder构建"
   ]
  },
  {
   "cell_type": "code",
   "execution_count": 11,
   "metadata": {
    "scrolled": false
   },
   "outputs": [
    {
     "name": "stdout",
     "output_type": "stream",
     "text": [
      "sample_output.shape:  (64, 16, 1024)\n",
      "sample_hidden.shape:  (64, 1024)\n"
     ]
    }
   ],
   "source": [
    "class Encoder(keras.Model):\n",
    "    def __init__(self, vocab_size, embedding_units, encoding_units, batch_size):\n",
    "        super(Encoder, self).__init__()\n",
    "        self.batch_size = batch_size\n",
    "        self.encoding_units = encoding_units\n",
    "        self.embedding = keras.layers.Embedding(vocab_size, embedding_units)\n",
    "        # gru时lstm的变种，认为遗忘门 = 1 - 输入门\n",
    "        self.gru = keras.layers.GRU(self.encoding_units, return_sequences=True, return_state=True, recurrent_initializer='glorot_uniform')\n",
    "        \n",
    "    def call(self, x, hidden):   # hidden: 初始化的隐含状态，由initialize_hidden_state函数获取\n",
    "        x = self.embedding(x)\n",
    "        output, state = self.gru(x, initial_state = hidden)\n",
    "        return output, state\n",
    "    def initialize_hidden_state(self):\n",
    "        return tf.zeros((self.batch_size, self.encoding_units))\n",
    "\n",
    "encoder = Encoder(input_vocab_size, embedding_units, units, batch_size)\n",
    "\n",
    "\n",
    "sample_hidden = encoder.initialize_hidden_state()\n",
    "sample_output, sample_hidden = encoder(x, sample_hidden)\n",
    "print('sample_output.shape: ', sample_output.shape)\n",
    "print('sample_hidden.shape: ', sample_hidden.shape)"
   ]
  },
  {
   "cell_type": "markdown",
   "metadata": {},
   "source": [
    "### 2.2 attention构建"
   ]
  },
  {
   "cell_type": "code",
   "execution_count": 12,
   "metadata": {},
   "outputs": [
    {
     "name": "stdout",
     "output_type": "stream",
     "text": [
      "attention_results.shape:  (64, 1024)\n",
      "attention_weights.shape:  (64, 16, 1)\n"
     ]
    }
   ],
   "source": [
    "class BahdanauAttention(keras.Model):\n",
    "    def __init__(self, units):\n",
    "        super(BahdanauAttention, self).__init__()\n",
    "        self.W1 = keras.layers.Dense(units)\n",
    "        self.W2 = keras.layers.Dense(units)\n",
    "        self.V = keras.layers.Dense(1)\n",
    "    \n",
    "    def call(self, decoder_hidden, encoder_outputs):\n",
    "        # decoder_hidden.shape: (batch_size, units)\n",
    "        # encoder_outputs.shape: (batch_size, length, units)\n",
    "        decoder_hidden_with_time_axis = tf.expand_dims(decoder_hidden, 1)    # decoder_hidden.shape -> (batch_size, 1, units)\n",
    "        # before V, shape(batch_size, length, units)\n",
    "        # after V, shape(batch_size, length, 1) \n",
    "        score = self.V(\n",
    "            tf.nn.tanh(\n",
    "                self.W1(encoder_outputs) + self.W2(decoder_hidden_with_time_axis)\n",
    "            )\n",
    "        )\n",
    "        # attention_weights.shape: (batch_size, length, 1)\n",
    "        attention_weights = tf.nn.softmax(score, axis=1)\n",
    "        # context_vector.shape: (batch_size, length, units)\n",
    "        context_vector = attention_weights * encoder_outputs\n",
    "        # context_vector.shape: (batch_size, units)\n",
    "        context_vector = tf.reduce_sum(context_vector, axis=1)\n",
    "        return context_vector, attention_weights\n",
    "\n",
    "attention_model = BahdanauAttention(10)\n",
    "attention_result, attention_weights = attention_model(sample_hidden, sample_output)\n",
    "print('attention_results.shape: ', attention_result.shape)\n",
    "print('attention_weights.shape: ', attention_weights.shape)"
   ]
  },
  {
   "cell_type": "markdown",
   "metadata": {},
   "source": [
    "### 2.3 Decoder构建"
   ]
  },
  {
   "cell_type": "code",
   "execution_count": 13,
   "metadata": {},
   "outputs": [
    {
     "name": "stdout",
     "output_type": "stream",
     "text": [
      "decoder_output.shape:  (64, 4935)\n",
      "decoder_hidden.shape:  (64, 1024)\n",
      "decoder_attention_weights.shape:  (64, 16, 1)\n"
     ]
    }
   ],
   "source": [
    "class Decoder(keras.Model):\n",
    "    def __init__(self, vocab_size, embedding_units, decoding_units, batch_size):\n",
    "        super(Decoder, self).__init__()\n",
    "        self.batch_size = batch_size\n",
    "        self.decoding_units = decoding_units\n",
    "        self.embedding = keras.layers.Embedding(vocab_size, embedding_units)\n",
    "        self.gru = keras.layers.GRU(self.decoding_units, return_sequences=True, return_state=True, recurrent_initializer='glorot_uniform')\n",
    "        self.fc = keras.layers.Dense(vocab_size)\n",
    "        self.attention = BahdanauAttention(self.decoding_units)\n",
    "    \n",
    "    def call(self, x, hidden, encoding_output):\n",
    "        # context_vector.shape: (batch_size, units)\n",
    "        # attentino_weights.shape: (batch_size, length, 1)\n",
    "        context_vector, attention_weights = self.attention(hidden, encoding_output)\n",
    "        \n",
    "        # before embedding x.shape: (batch_size, 1)\n",
    "        # after embedding x.shape: (batch_size, 1, embedding_units)\n",
    "        x = self.embedding(x)\n",
    "        \n",
    "        combined_x = tf.concat([\n",
    "            tf.expand_dims(context_vector, 1),\n",
    "            x\n",
    "        ], axis=-1)\n",
    "        \n",
    "        # output.shape: (batch_size, 1, decoding_units)\n",
    "        # state.shape: (batch_size, decoding_units)\n",
    "        output, state = self.gru(combined_x)\n",
    "        \n",
    "        # output.shape: (batch_size, decoding_units)\n",
    "        output = tf.reshape(output, (-1, output.shape[-1]))\n",
    "        \n",
    "        # output.shape(batch_size, vocab_size)\n",
    "        output = self.fc(output)\n",
    "        \n",
    "        return output, state, attention_weights\n",
    "\n",
    "decoder = Decoder(output_vocab_size, embedding_units, units, batch_size)\n",
    "decoder_output, decoder_hidden, decoder_attention_weights = decoder(tf.random.uniform((batch_size, 1)), sample_hidden, sample_output)\n",
    "print('decoder_output.shape: ', decoder_output.shape)\n",
    "print('decoder_hidden.shape: ', decoder_hidden.shape)\n",
    "print('decoder_attention_weights.shape: ', decoder_attention_weights.shape)"
   ]
  },
  {
   "cell_type": "markdown",
   "metadata": {},
   "source": [
    "### 2.4 loss & optimizer"
   ]
  },
  {
   "cell_type": "code",
   "execution_count": 14,
   "metadata": {},
   "outputs": [],
   "source": [
    "optimizer = keras.optimizers.Adam()\n",
    "\n",
    "loss_object = keras.losses.SparseCategoricalCrossentropy(from_logits=True, reduction='none')\n",
    "\n",
    "# 计算单步损失函数\n",
    "def loss_function(real, pred):\n",
    "    # mask: 将padding计算得出的loss去掉\n",
    "    mask = tf.math.logical_not(tf.math.equal(real, 0))\n",
    "    loss_ = loss_object(real, pred)\n",
    "    mask = tf.cast(mask, dtype=loss_.dtype)   # mask: boolean -> loss_.dtype 以便loss_和mask做乘法去掉padding所计算出来的loss\n",
    "    loss_ *= mask\n",
    "    \n",
    "    return tf.reduce_mean(loss_)"
   ]
  },
  {
   "cell_type": "markdown",
   "metadata": {},
   "source": [
    "### 2.5 train"
   ]
  },
  {
   "cell_type": "code",
   "execution_count": 15,
   "metadata": {},
   "outputs": [],
   "source": [
    "# 计算多步损失函数\n",
    "@tf.function\n",
    "def train_step(input, target, encoding_hidden):\n",
    "    loss = 0.0\n",
    "    with tf.GradientTape() as tape:\n",
    "        encoding_outputs, encoding_hidden = encoder(input, encoding_hidden)\n",
    "        decoding_hidden = encoding_hidden\n",
    "        for t in range(0, target.shape[1]-1):\n",
    "            decoding_input = tf.expand_dims(target[:, t], 1)\n",
    "            predictions, decoding_hidden, _ = decoder(decoding_input, decoding_hidden, encoding_outputs)\n",
    "            loss += loss_function(target[:, t+1], predictions)\n",
    "    \n",
    "    batch_loss = loss / int(target.shape[0])\n",
    "    variables = encoder.trainable_variables + decoder.trainable_variables\n",
    "    gradients = tape.gradient(loss, variables)\n",
    "    optimizer.apply_gradients(zip(gradients, variables))\n",
    "    return batch_loss"
   ]
  },
  {
   "cell_type": "code",
   "execution_count": 16,
   "metadata": {},
   "outputs": [],
   "source": [
    "# # 此处为证明(batch_size, vocab_size)与(batch_size, id)可以计算SparseCategoricalCrossentropy,其中vocab_size为词表大小(batch_size， vocab_size)代表长度为vocab_size的one_hot编码，(batch_size, id)表示一个词所代表的id\n",
    "# # x_test, y_test\n",
    "# encoding_hidden = encoder.initialize_hidden_state()\n",
    "# encoding_outputs, encoding_hidden = encoder(x_test, encoding_hidden)\n",
    "# decoding_hidden = encoding_hidden\n",
    "\n",
    "# decoding_input = tf.expand_dims(y_test[:, 1], 1)\n",
    "# predictions, decoding_hidden, _ = decoder(decoding_input, decoding_hidden, encoding_outputs)\n",
    "# print('predictions: ', predictions)\n",
    "# print('target[:, 2]', y_test[:, 2])\n",
    "# loss = loss_function(y_test[:, 2], predictions)\n",
    "# print('loss: ', loss)"
   ]
  },
  {
   "cell_type": "code",
   "execution_count": 17,
   "metadata": {},
   "outputs": [
    {
     "name": "stdout",
     "output_type": "stream",
     "text": [
      "Epoch: 1  Batch: 0 Loss: 0.7973\n",
      "Epoch: 1  Batch: 100 Loss: 0.3762\n",
      "Epoch: 1  Batch: 200 Loss: 0.3103\n",
      "Epoch: 1  Batch: 300 Loss: 0.2758\n",
      "Epoch: 1  Batch: 400 Loss: 0.2650\n",
      "Epoch: 1 Loss: 0.3284\n",
      "Time take for this epoch is 54.25423073768616 second\n",
      "\n",
      "Epoch: 2  Batch: 0 Loss: 0.2483\n",
      "Epoch: 2  Batch: 100 Loss: 0.2406\n",
      "Epoch: 2  Batch: 200 Loss: 0.2163\n",
      "Epoch: 2  Batch: 300 Loss: 0.2045\n",
      "Epoch: 2  Batch: 400 Loss: 0.1643\n",
      "Epoch: 2 Loss: 0.2099\n",
      "Time take for this epoch is 37.52070164680481 second\n",
      "\n",
      "Epoch: 3  Batch: 0 Loss: 0.1641\n",
      "Epoch: 3  Batch: 100 Loss: 0.1442\n",
      "Epoch: 3  Batch: 200 Loss: 0.1387\n",
      "Epoch: 3  Batch: 300 Loss: 0.1358\n",
      "Epoch: 3  Batch: 400 Loss: 0.0928\n",
      "Epoch: 3 Loss: 0.1337\n",
      "Time take for this epoch is 37.53220462799072 second\n",
      "\n",
      "Epoch: 4  Batch: 0 Loss: 0.0806\n",
      "Epoch: 4  Batch: 100 Loss: 0.0961\n",
      "Epoch: 4  Batch: 200 Loss: 0.1038\n",
      "Epoch: 4  Batch: 300 Loss: 0.0881\n",
      "Epoch: 4  Batch: 400 Loss: 0.0600\n",
      "Epoch: 4 Loss: 0.0809\n",
      "Time take for this epoch is 37.64337420463562 second\n",
      "\n",
      "Epoch: 5  Batch: 0 Loss: 0.0532\n",
      "Epoch: 5  Batch: 100 Loss: 0.0482\n",
      "Epoch: 5  Batch: 200 Loss: 0.0483\n",
      "Epoch: 5  Batch: 300 Loss: 0.0527\n",
      "Epoch: 5  Batch: 400 Loss: 0.0271\n",
      "Epoch: 5 Loss: 0.0504\n",
      "Time take for this epoch is 37.68725562095642 second\n",
      "\n",
      "Epoch: 6  Batch: 0 Loss: 0.0313\n",
      "Epoch: 6  Batch: 100 Loss: 0.0370\n",
      "Epoch: 6  Batch: 200 Loss: 0.0360\n",
      "Epoch: 6  Batch: 300 Loss: 0.0292\n",
      "Epoch: 6  Batch: 400 Loss: 0.0233\n",
      "Epoch: 6 Loss: 0.0320\n",
      "Time take for this epoch is 37.86179041862488 second\n",
      "\n",
      "Epoch: 7  Batch: 0 Loss: 0.0186\n",
      "Epoch: 7  Batch: 100 Loss: 0.0241\n",
      "Epoch: 7  Batch: 200 Loss: 0.0174\n",
      "Epoch: 7  Batch: 300 Loss: 0.0273\n",
      "Epoch: 7  Batch: 400 Loss: 0.0171\n",
      "Epoch: 7 Loss: 0.0226\n",
      "Time take for this epoch is 37.834861755371094 second\n",
      "\n",
      "Epoch: 8  Batch: 0 Loss: 0.0155\n",
      "Epoch: 8  Batch: 100 Loss: 0.0235\n",
      "Epoch: 8  Batch: 200 Loss: 0.0252\n",
      "Epoch: 8  Batch: 300 Loss: 0.0175\n",
      "Epoch: 8  Batch: 400 Loss: 0.0103\n",
      "Epoch: 8 Loss: 0.0167\n",
      "Time take for this epoch is 346.55394291877747 second\n",
      "\n",
      "Epoch: 9  Batch: 0 Loss: 0.0121\n",
      "Epoch: 9  Batch: 100 Loss: 0.0149\n",
      "Epoch: 9  Batch: 200 Loss: 0.0113\n",
      "Epoch: 9  Batch: 300 Loss: 0.0134\n",
      "Epoch: 9  Batch: 400 Loss: 0.0128\n",
      "Epoch: 9 Loss: 0.0135\n",
      "Time take for this epoch is 37.83888101577759 second\n",
      "\n",
      "Epoch: 10  Batch: 0 Loss: 0.0130\n",
      "Epoch: 10  Batch: 100 Loss: 0.0198\n",
      "Epoch: 10  Batch: 200 Loss: 0.0120\n",
      "Epoch: 10  Batch: 300 Loss: 0.0134\n",
      "Epoch: 10  Batch: 400 Loss: 0.0157\n",
      "Epoch: 10 Loss: 0.0118\n",
      "Time take for this epoch is 38.13802194595337 second\n",
      "\n"
     ]
    }
   ],
   "source": [
    "epochs = 10\n",
    "steps_per_epoch = len(input_tensor) // batch_size\n",
    "\n",
    "for epoch in range(epochs):\n",
    "    start_time = time.time()\n",
    "    encoding_hidden = encoder.initialize_hidden_state()\n",
    "    total_loss = 0\n",
    "    for (batch, (input, target)) in enumerate(train_dataset.take(steps_per_epoch)):\n",
    "        batch_loss = train_step(input, target, encoding_hidden)\n",
    "        total_loss += batch_loss\n",
    "        \n",
    "        if batch % 100 == 0:\n",
    "            print('Epoch: {}  Batch: {} Loss: {:.4f}'.format(epoch+1, batch, batch_loss.numpy()))\n",
    "    print('Epoch: {} Loss: {:.4f}'.format(epoch+1, total_loss / steps_per_epoch))\n",
    "    print('Time take for this epoch is {} second\\n'.format(time.time()-start_time))\n"
   ]
  },
  {
   "cell_type": "markdown",
   "metadata": {},
   "source": [
    "## 3 evaluation"
   ]
  },
  {
   "cell_type": "code",
   "execution_count": 51,
   "metadata": {},
   "outputs": [],
   "source": [
    "def evaluate(input_sentence):\n",
    "    attention_matrix = np.zeros((max_length_output, max_length_input))\n",
    "    input_sentence = preprocess_sentence(input_sentence)\n",
    "    \n",
    "    inputs = [input_tokenizer.word_index[token] for token in input_sentence.split(' ')]\n",
    "    inputs = keras.preprocessing.sequence.pad_sequences([inputs], maxlen=max_length_input, padding='post')\n",
    "    inputs = tf.convert_to_tensor(inputs)\n",
    "    \n",
    "    result = ''\n",
    "#     encoding_hidden = encoder.initialize_hidden_state()\n",
    "    encoding_hidden = tf.zeros((1, units))\n",
    "    \n",
    "    encoder_outputs, encoding_hidden = encoder(inputs, encoding_hidden)\n",
    "    decoding_hidden = encoding_hidden\n",
    "    \n",
    "    # decoding_input.shape: (1, 1) (batch_size, length)\n",
    "    decoding_input = tf.expand_dims([output_tokenizer.word_index['<start>']], 0)\n",
    "    for t in range(max_length_output):\n",
    "        predictions, decoding_hidden, attention_weights = decoder(decoding_input, decoding_hidden, encoder_outputs)\n",
    "        \n",
    "        # attention_weights.shape: (batch_size, input_length, 1):(1, 16, 1) -> (input_length):(16)\n",
    "        attention_weights = tf.reshape(attention_weights, (-1,))\n",
    "        attention_matrix[t] = attention_weights.numpy()\n",
    "        \n",
    "        # predictions.shape: (batch_size, vocab_size): (1, 4935)\n",
    "        prediction_id = tf.argmax(predictions[0]).numpy()\n",
    "        result += output_tokenizer.index_word[prediction_id] + ' '\n",
    "        \n",
    "        if output_tokenizer.index_word[prediction_id] == '<end>':\n",
    "            return result, input_sentence, attention_matrix\n",
    "        \n",
    "        decoding_input = tf.expand_dims([prediction_id], 0)\n",
    "    return result, input_sentence, attention_matrix\n",
    "\n",
    "\n",
    "def plot_attention(attention_matrix, input_sentence, predicted_sentence):\n",
    "    fig = plt.figure(figsize=(10, 10))\n",
    "    ax = fig.add_subplot(1, 1, 1)\n",
    "    ax.matshow(attention_matrix, cmap='viridis')\n",
    "    \n",
    "    font_dict = {'fontsize': 14}\n",
    "    ax.set_xticklabels(['']+input_sentence, fontdict=font_dict, rotation=90)\n",
    "    ax.set_yticklabels(['']+predicted_sentence, fontdict=font_dict)\n",
    "    plt.show()\n",
    "    \n",
    "def translate(input_sentence):\n",
    "    result, input_sentence, attention_matrix = evaluate(input_sentence)\n",
    "    print('Input: %s' % (input_sentence))\n",
    "    print('Predicted_translation: %s' % (result))\n",
    "    \n",
    "    attention_matrix = attention_matrix[:len(result.split(' ')), :len(input_sentence.split(' '))]\n",
    "    plot_attention(attention_matrix, input_sentence.split(' '), result.split(' '))\n",
    "    "
   ]
  },
  {
   "cell_type": "code",
   "execution_count": 52,
   "metadata": {},
   "outputs": [
    {
     "name": "stdout",
     "output_type": "stream",
     "text": [
      "Input: <start> hace mucho frio aqui <end>\n",
      "Predicted_translation: it s very cold here . <end> \n"
     ]
    },
    {
     "data": {
      "image/png": "[encoded data removed]",
      "text/plain": [
       "<Figure size 720x720 with 1 Axes>"
      ]
     },
     "metadata": {
      "needs_background": "light"
     },
     "output_type": "display_data"
    }
   ],
   "source": [
    "translate(u'hace mucho frío aquí')"
   ]
  },
  {
   "cell_type": "code",
   "execution_count": 53,
   "metadata": {},
   "outputs": [
    {
     "name": "stdout",
     "output_type": "stream",
     "text": [
      "Input: <start> te quiero <end>\n",
      "Predicted_translation: i love you . <end> \n"
     ]
    },
    {
     "data": {
      "image/png": "[encoded data removed]",
      "text/plain": [
       "<Figure size 720x720 with 1 Axes>"
      ]
     },
     "metadata": {
      "needs_background": "light"
     },
     "output_type": "display_data"
    }
   ],
   "source": [
    "translate(u'Te quiero')"
   ]
  },
  {
   "cell_type": "code",
   "execution_count": 54,
   "metadata": {},
   "outputs": [
    {
     "name": "stdout",
     "output_type": "stream",
     "text": [
      "Input: <start> hijo de perro <end>\n",
      "Predicted_translation: a dog is coming . <end> \n"
     ]
    },
    {
     "data": {
      "image/png": "[encoded data removed]",
      "text/plain": [
       "<Figure size 720x720 with 1 Axes>"
      ]
     },
     "metadata": {
      "needs_background": "light"
     },
     "output_type": "display_data"
    }
   ],
   "source": [
    "translate(u'hijo de perro')"
   ]
  }
 ],
 "metadata": {
  "kernelspec": {
   "display_name": "Python 3",
   "language": "python",
   "name": "python3"
  },
  "language_info": {
   "codemirror_mode": {
    "name": "ipython",
    "version": 3
   },
   "file_extension": ".py",
   "mimetype": "text/x-python",
   "name": "python",
   "nbconvert_exporter": "python",
   "pygments_lexer": "ipython3",
   "version": "3.7.6"
  }
 },
 "nbformat": 4,
 "nbformat_minor": 4
}
