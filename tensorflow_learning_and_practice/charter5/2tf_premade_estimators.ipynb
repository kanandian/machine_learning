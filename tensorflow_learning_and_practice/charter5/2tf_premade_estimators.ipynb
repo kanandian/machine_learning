{
 "cells": [
  {
   "cell_type": "code",
   "execution_count": 1,
   "metadata": {},
   "outputs": [],
   "source": [
    "import tensorflow as tf\n",
    "import matplotlib as mpl\n",
    "import matplotlib.pyplot as plt\n",
    "import numpy as np\n",
    "import sklearn\n",
    "from sklearn.preprocessing import StandardScaler\n",
    "from sklearn.datasets import fetch_california_housing\n",
    "import pandas as pd\n",
    "from tensorflow import keras\n",
    "import os"
   ]
  },
  {
   "cell_type": "markdown",
   "metadata": {},
   "source": [
    "## 读取数据并转换"
   ]
  },
  {
   "cell_type": "code",
   "execution_count": 2,
   "metadata": {},
   "outputs": [
    {
     "name": "stdout",
     "output_type": "stream",
     "text": [
      "   survived     sex   age  n_siblings_spouses  parch     fare  class     deck  \\\n",
      "0         0    male  22.0                   1      0   7.2500  Third  unknown   \n",
      "1         1  female  38.0                   1      0  71.2833  First        C   \n",
      "2         1  female  26.0                   0      0   7.9250  Third  unknown   \n",
      "3         1  female  35.0                   1      0  53.1000  First        C   \n",
      "4         0    male  28.0                   0      0   8.4583  Third  unknown   \n",
      "\n",
      "   embark_town alone  \n",
      "0  Southampton     n  \n",
      "1    Cherbourg     n  \n",
      "2  Southampton     y  \n",
      "3  Southampton     n  \n",
      "4   Queenstown     y  \n",
      "   survived     sex   age  n_siblings_spouses  parch     fare   class  \\\n",
      "0         0    male  35.0                   0      0   8.0500   Third   \n",
      "1         0    male  54.0                   0      0  51.8625   First   \n",
      "2         1  female  58.0                   0      0  26.5500   First   \n",
      "3         1  female  55.0                   0      0  16.0000  Second   \n",
      "4         1    male  34.0                   0      0  13.0000  Second   \n",
      "\n",
      "      deck  embark_town alone  \n",
      "0  unknown  Southampton     y  \n",
      "1        E  Southampton     y  \n",
      "2        C  Southampton     y  \n",
      "3  unknown  Southampton     y  \n",
      "4        D  Southampton     y  \n"
     ]
    }
   ],
   "source": [
    "# 读取csv文件成为pandas的DataFrame\n",
    "train_file = './data/titanic/train.csv'\n",
    "eval_file = './data/titanic/eval.csv'\n",
    "\n",
    "train_df = pd.read_csv(train_file)\n",
    "eval_df = pd.read_csv(eval_file)\n",
    "\n",
    "print(train_df.head())  # head函数去除前几条数据，默认前5条\n",
    "print(eval_df.head())"
   ]
  },
  {
   "cell_type": "code",
   "execution_count": 3,
   "metadata": {},
   "outputs": [
    {
     "data": {
      "text/html": [
       "<div>\n",
       "<style scoped>\n",
       "    .dataframe tbody tr th:only-of-type {\n",
       "        vertical-align: middle;\n",
       "    }\n",
       "\n",
       "    .dataframe tbody tr th {\n",
       "        vertical-align: top;\n",
       "    }\n",
       "\n",
       "    .dataframe thead th {\n",
       "        text-align: right;\n",
       "    }\n",
       "</style>\n",
       "<table border=\"1\" class=\"dataframe\">\n",
       "  <thead>\n",
       "    <tr style=\"text-align: right;\">\n",
       "      <th></th>\n",
       "      <th>age</th>\n",
       "      <th>n_siblings_spouses</th>\n",
       "      <th>parch</th>\n",
       "      <th>fare</th>\n",
       "    </tr>\n",
       "  </thead>\n",
       "  <tbody>\n",
       "    <tr>\n",
       "      <th>count</th>\n",
       "      <td>627.000000</td>\n",
       "      <td>627.000000</td>\n",
       "      <td>627.000000</td>\n",
       "      <td>627.000000</td>\n",
       "    </tr>\n",
       "    <tr>\n",
       "      <th>mean</th>\n",
       "      <td>29.631308</td>\n",
       "      <td>0.545455</td>\n",
       "      <td>0.379585</td>\n",
       "      <td>34.385399</td>\n",
       "    </tr>\n",
       "    <tr>\n",
       "      <th>std</th>\n",
       "      <td>12.511818</td>\n",
       "      <td>1.151090</td>\n",
       "      <td>0.792999</td>\n",
       "      <td>54.597730</td>\n",
       "    </tr>\n",
       "    <tr>\n",
       "      <th>min</th>\n",
       "      <td>0.750000</td>\n",
       "      <td>0.000000</td>\n",
       "      <td>0.000000</td>\n",
       "      <td>0.000000</td>\n",
       "    </tr>\n",
       "    <tr>\n",
       "      <th>25%</th>\n",
       "      <td>23.000000</td>\n",
       "      <td>0.000000</td>\n",
       "      <td>0.000000</td>\n",
       "      <td>7.895800</td>\n",
       "    </tr>\n",
       "    <tr>\n",
       "      <th>50%</th>\n",
       "      <td>28.000000</td>\n",
       "      <td>0.000000</td>\n",
       "      <td>0.000000</td>\n",
       "      <td>15.045800</td>\n",
       "    </tr>\n",
       "    <tr>\n",
       "      <th>75%</th>\n",
       "      <td>35.000000</td>\n",
       "      <td>1.000000</td>\n",
       "      <td>0.000000</td>\n",
       "      <td>31.387500</td>\n",
       "    </tr>\n",
       "    <tr>\n",
       "      <th>max</th>\n",
       "      <td>80.000000</td>\n",
       "      <td>8.000000</td>\n",
       "      <td>5.000000</td>\n",
       "      <td>512.329200</td>\n",
       "    </tr>\n",
       "  </tbody>\n",
       "</table>\n",
       "</div>"
      ],
      "text/plain": [
       "              age  n_siblings_spouses       parch        fare\n",
       "count  627.000000          627.000000  627.000000  627.000000\n",
       "mean    29.631308            0.545455    0.379585   34.385399\n",
       "std     12.511818            1.151090    0.792999   54.597730\n",
       "min      0.750000            0.000000    0.000000    0.000000\n",
       "25%     23.000000            0.000000    0.000000    7.895800\n",
       "50%     28.000000            0.000000    0.000000   15.045800\n",
       "75%     35.000000            1.000000    0.000000   31.387500\n",
       "max     80.000000            8.000000    5.000000  512.329200"
      ]
     },
     "execution_count": 3,
     "metadata": {},
     "output_type": "execute_result"
    }
   ],
   "source": [
    "y_train = train_df.pop('survived')  # pop函数可以把相应的字段从数据集里去除，并返回该字段的值\n",
    "y_eval = eval_df.pop('survived')\n",
    "\n",
    "train_df.describe()  #显示统计信息"
   ]
  },
  {
   "cell_type": "markdown",
   "metadata": {},
   "source": [
    "### 数据处理"
   ]
  },
  {
   "cell_type": "code",
   "execution_count": 4,
   "metadata": {},
   "outputs": [
    {
     "name": "stdout",
     "output_type": "stream",
     "text": [
      "sex ['male' 'female']\n",
      "n_siblings_spouses [1 0 3 4 2 5 8]\n",
      "parch [0 1 2 5 3 4]\n",
      "class ['Third' 'First' 'Second']\n",
      "deck ['unknown' 'C' 'G' 'A' 'B' 'D' 'F' 'E']\n",
      "embark_town ['Southampton' 'Cherbourg' 'Queenstown' 'unknown']\n",
      "alone ['n' 'y']\n"
     ]
    }
   ],
   "source": [
    "# 使用feature columns对数据做封装\n",
    "# 将数据分为离散特征和连续特征\n",
    "categorical_columns = ['sex', 'n_siblings_spouses', 'parch', 'class', 'deck', 'embark_town', 'alone']   # 离散特征\n",
    "numeric_columns = ['age', 'fare']   # 连续特征\n",
    "feature_columns = []\n",
    "for categorical_column in categorical_columns:\n",
    "    vocab = train_df[categorical_column].unique()   # unique函数获取一个属性所有可能的值\n",
    "    print(categorical_column, vocab)\n",
    "    feature_column = tf.feature_column.indicator_column(tf.feature_column.categorical_column_with_vocabulary_list(categorical_column, vocab))\n",
    "    feature_columns.append(feature_column)\n",
    "\n",
    "for numeric_column in numeric_columns:\n",
    "    feature_columns.append(tf.feature_column.numeric_column(numeric_column, dtype=tf.float32))"
   ]
  },
  {
   "cell_type": "code",
   "execution_count": 5,
   "metadata": {},
   "outputs": [],
   "source": [
    "# 构建dataset\n",
    "def make_dataset(data_df, label_df, epochs=10, shuffle=True, batch_size=32):\n",
    "    dataset = tf.data.Dataset.from_tensor_slices((dict(data_df), label_df))\n",
    "    if shuffle:\n",
    "        dataset = dataset.shuffle(10000)\n",
    "    dataset = dataset.repeat(epochs).batch(batch_size)\n",
    "    return dataset\n",
    "\n",
    "train_dataset = make_dataset(train_df, y_train, batch_size=5)"
   ]
  },
  {
   "cell_type": "markdown",
   "metadata": {},
   "source": [
    "## 使用预先定义的estimator"
   ]
  },
  {
   "cell_type": "markdown",
   "metadata": {},
   "source": [
    "### baseline_estimator:根据结果比例随机猜测结果：准确率很低，只有基准水平"
   ]
  },
  {
   "cell_type": "code",
   "execution_count": 8,
   "metadata": {},
   "outputs": [
    {
     "name": "stdout",
     "output_type": "stream",
     "text": [
      "INFO:tensorflow:Using default config.\n",
      "INFO:tensorflow:Using config: {'_model_dir': 'baseline_model', '_tf_random_seed': None, '_save_summary_steps': 100, '_save_checkpoints_steps': None, '_save_checkpoints_secs': 600, '_session_config': allow_soft_placement: true\n",
      "graph_options {\n",
      "  rewrite_options {\n",
      "    meta_optimizer_iterations: ONE\n",
      "  }\n",
      "}\n",
      ", '_keep_checkpoint_max': 5, '_keep_checkpoint_every_n_hours': 10000, '_log_step_count_steps': 100, '_train_distribute': None, '_device_fn': None, '_protocol': None, '_eval_distribute': None, '_experimental_distribute': None, '_experimental_max_worker_delay_secs': None, '_session_creation_timeout_secs': 7200, '_service': None, '_cluster_spec': <tensorflow.python.training.server_lib.ClusterSpec object at 0x14fa59550>, '_task_type': 'worker', '_task_id': 0, '_global_id_in_cluster': 0, '_master': '', '_evaluation_master': '', '_is_chief': True, '_num_ps_replicas': 0, '_num_worker_replicas': 1}\n",
      "INFO:tensorflow:Calling model_fn.\n",
      "INFO:tensorflow:Done calling model_fn.\n",
      "INFO:tensorflow:Create CheckpointSaverHook.\n",
      "INFO:tensorflow:Graph was finalized.\n",
      "INFO:tensorflow:Restoring parameters from baseline_model/model.ckpt-1960\n",
      "WARNING:tensorflow:From /Users/macpro/miniconda3/envs/machine_learning/lib/python3.7/site-packages/tensorflow_core/python/training/saver.py:1069: get_checkpoint_mtimes (from tensorflow.python.training.checkpoint_management) is deprecated and will be removed in a future version.\n",
      "Instructions for updating:\n",
      "Use standard file utilities to get mtimes.\n",
      "INFO:tensorflow:Running local_init_op.\n",
      "INFO:tensorflow:Done running local_init_op.\n",
      "INFO:tensorflow:Saving checkpoints for 1960 into baseline_model/model.ckpt.\n",
      "INFO:tensorflow:loss = 20.711353, step = 1960\n",
      "INFO:tensorflow:global_step/sec: 175.821\n",
      "INFO:tensorflow:loss = 22.982082, step = 2060 (0.569 sec)\n",
      "INFO:tensorflow:global_step/sec: 483.131\n",
      "INFO:tensorflow:loss = 20.300503, step = 2160 (0.207 sec)\n",
      "INFO:tensorflow:global_step/sec: 522.575\n",
      "INFO:tensorflow:loss = 21.633816, step = 2260 (0.191 sec)\n",
      "INFO:tensorflow:global_step/sec: 521.543\n",
      "INFO:tensorflow:loss = 21.65776, step = 2360 (0.192 sec)\n",
      "INFO:tensorflow:global_step/sec: 519.098\n",
      "INFO:tensorflow:loss = 20.25704, step = 2460 (0.193 sec)\n",
      "INFO:tensorflow:global_step/sec: 513.268\n",
      "INFO:tensorflow:loss = 22.553505, step = 2560 (0.195 sec)\n",
      "INFO:tensorflow:global_step/sec: 524.236\n",
      "INFO:tensorflow:loss = 23.035683, step = 2660 (0.191 sec)\n",
      "INFO:tensorflow:global_step/sec: 512.361\n",
      "INFO:tensorflow:loss = 22.566128, step = 2760 (0.195 sec)\n",
      "INFO:tensorflow:global_step/sec: 524.463\n",
      "INFO:tensorflow:loss = 24.00251, step = 2860 (0.191 sec)\n",
      "INFO:tensorflow:global_step/sec: 525.456\n",
      "INFO:tensorflow:loss = 22.560398, step = 2960 (0.190 sec)\n",
      "INFO:tensorflow:global_step/sec: 501.406\n",
      "INFO:tensorflow:loss = 25.462494, step = 3060 (0.199 sec)\n",
      "INFO:tensorflow:global_step/sec: 479.254\n",
      "INFO:tensorflow:loss = 20.248281, step = 3160 (0.209 sec)\n",
      "INFO:tensorflow:global_step/sec: 494.342\n",
      "INFO:tensorflow:loss = 18.0798, step = 3260 (0.202 sec)\n",
      "INFO:tensorflow:global_step/sec: 468.544\n",
      "INFO:tensorflow:loss = 19.757645, step = 3360 (0.222 sec)\n",
      "INFO:tensorflow:global_step/sec: 294.967\n",
      "INFO:tensorflow:loss = 23.416016, step = 3460 (0.330 sec)\n",
      "INFO:tensorflow:global_step/sec: 407.837\n",
      "INFO:tensorflow:loss = 23.01653, step = 3560 (0.246 sec)\n",
      "INFO:tensorflow:global_step/sec: 467.185\n",
      "INFO:tensorflow:loss = 22.090946, step = 3660 (0.213 sec)\n",
      "INFO:tensorflow:global_step/sec: 504.882\n",
      "INFO:tensorflow:loss = 20.729874, step = 3760 (0.198 sec)\n",
      "INFO:tensorflow:global_step/sec: 395.801\n",
      "INFO:tensorflow:loss = 22.547136, step = 3860 (0.253 sec)\n",
      "INFO:tensorflow:Saving checkpoints for 3920 into baseline_model/model.ckpt.\n",
      "INFO:tensorflow:Loss for final step: 8.17263.\n"
     ]
    },
    {
     "data": {
      "text/plain": [
       "<tensorflow_estimator.python.estimator.canned.baseline.BaselineClassifier at 0x14fa59110>"
      ]
     },
     "execution_count": 8,
     "metadata": {},
     "output_type": "execute_result"
    }
   ],
   "source": [
    "# 创建输出模型的文件夹\n",
    "output_dir = 'baseline_model'\n",
    "if not os.path.exists(output_dir):\n",
    "    os.mkdir(output_dir)\n",
    "\n",
    "# 创建estimator\n",
    "baseline_estimator = tf.compat.v1.estimator.BaselineClassifier(model_dir=output_dir, n_classes=2)\n",
    "baseline_estimator.train(input_fn=lambda : make_dataset(train_df, y_train, epochs=100))"
   ]
  },
  {
   "cell_type": "code",
   "execution_count": 10,
   "metadata": {},
   "outputs": [
    {
     "name": "stdout",
     "output_type": "stream",
     "text": [
      "INFO:tensorflow:Calling model_fn.\n",
      "WARNING:tensorflow:From /Users/macpro/miniconda3/envs/machine_learning/lib/python3.7/site-packages/tensorflow_core/python/ops/metrics_impl.py:2026: div (from tensorflow.python.ops.math_ops) is deprecated and will be removed in a future version.\n",
      "Instructions for updating:\n",
      "Deprecated in favor of operator or tf.math.divide.\n",
      "WARNING:tensorflow:Trapezoidal rule is known to produce incorrect PR-AUCs; please switch to \"careful_interpolation\" instead.\n",
      "WARNING:tensorflow:Trapezoidal rule is known to produce incorrect PR-AUCs; please switch to \"careful_interpolation\" instead.\n",
      "INFO:tensorflow:Done calling model_fn.\n",
      "INFO:tensorflow:Starting evaluation at 2020-02-10T16:37:46Z\n",
      "INFO:tensorflow:Graph was finalized.\n",
      "INFO:tensorflow:Restoring parameters from baseline_model/model.ckpt-3920\n",
      "INFO:tensorflow:Running local_init_op.\n",
      "INFO:tensorflow:Done running local_init_op.\n",
      "INFO:tensorflow:Finished evaluation at 2020-02-10-16:37:47\n",
      "INFO:tensorflow:Saving dict for global step 3920: accuracy = 0.625, accuracy_baseline = 0.625, auc = 0.5, auc_precision_recall = 0.6875, average_loss = 0.6618674, global_step = 3920, label/mean = 0.375, loss = 12.480927, precision = 0.0, prediction/mean = 0.38698947, recall = 0.0\n",
      "INFO:tensorflow:Saving 'checkpoint_path' summary for global step 3920: baseline_model/model.ckpt-3920\n"
     ]
    },
    {
     "data": {
      "text/plain": [
       "{'accuracy': 0.625,\n",
       " 'accuracy_baseline': 0.625,\n",
       " 'auc': 0.5,\n",
       " 'auc_precision_recall': 0.6875,\n",
       " 'average_loss': 0.6618674,\n",
       " 'label/mean': 0.375,\n",
       " 'loss': 12.480927,\n",
       " 'precision': 0.0,\n",
       " 'prediction/mean': 0.38698947,\n",
       " 'recall': 0.0,\n",
       " 'global_step': 3920}"
      ]
     },
     "execution_count": 10,
     "metadata": {},
     "output_type": "execute_result"
    }
   ],
   "source": [
    "baseline_estimator.evaluate(input_fn=lambda : make_dataset(eval_df, y_eval, epochs=1, shuffle=False, batch_size=20))"
   ]
  },
  {
   "cell_type": "code",
   "execution_count": 11,
   "metadata": {},
   "outputs": [
    {
     "name": "stdout",
     "output_type": "stream",
     "text": [
      "INFO:tensorflow:Using default config.\n",
      "INFO:tensorflow:Using config: {'_model_dir': 'linear_model', '_tf_random_seed': None, '_save_summary_steps': 100, '_save_checkpoints_steps': None, '_save_checkpoints_secs': 600, '_session_config': allow_soft_placement: true\n",
      "graph_options {\n",
      "  rewrite_options {\n",
      "    meta_optimizer_iterations: ONE\n",
      "  }\n",
      "}\n",
      ", '_keep_checkpoint_max': 5, '_keep_checkpoint_every_n_hours': 10000, '_log_step_count_steps': 100, '_train_distribute': None, '_device_fn': None, '_protocol': None, '_eval_distribute': None, '_experimental_distribute': None, '_experimental_max_worker_delay_secs': None, '_session_creation_timeout_secs': 7200, '_service': None, '_cluster_spec': <tensorflow.python.training.server_lib.ClusterSpec object at 0x152b5dc10>, '_task_type': 'worker', '_task_id': 0, '_global_id_in_cluster': 0, '_master': '', '_evaluation_master': '', '_is_chief': True, '_num_ps_replicas': 0, '_num_worker_replicas': 1}\n",
      "INFO:tensorflow:Calling model_fn.\n",
      "WARNING:tensorflow:Layer linear/linear_model is casting an input tensor from dtype float64 to the layer's dtype of float32, which is new behavior in TensorFlow 2.  The layer has dtype float32 because it's dtype defaults to floatx.\n",
      "\n",
      "If you intended to run this layer in float32, you can safely ignore this warning. If in doubt, this warning is likely only an issue if you are porting a TensorFlow 1.X model to TensorFlow 2.\n",
      "\n",
      "To change all layers to have dtype float64 by default, call `tf.keras.backend.set_floatx('float64')`. To change just this layer, pass dtype='float64' to the layer constructor. If you are the author of this layer, you can disable autocasting by passing autocast=False to the base Layer constructor.\n",
      "\n",
      "WARNING:tensorflow:From /Users/macpro/miniconda3/envs/machine_learning/lib/python3.7/site-packages/tensorflow_core/python/feature_column/feature_column_v2.py:518: Layer.add_variable (from tensorflow.python.keras.engine.base_layer) is deprecated and will be removed in a future version.\n",
      "Instructions for updating:\n",
      "Please use `layer.add_weight` method instead.\n",
      "WARNING:tensorflow:From /Users/macpro/miniconda3/envs/machine_learning/lib/python3.7/site-packages/tensorflow_core/python/feature_column/feature_column_v2.py:4276: IndicatorColumn._variable_shape (from tensorflow.python.feature_column.feature_column_v2) is deprecated and will be removed in a future version.\n",
      "Instructions for updating:\n",
      "The old _FeatureColumn APIs are being deprecated. Please use the new FeatureColumn APIs instead.\n",
      "WARNING:tensorflow:From /Users/macpro/miniconda3/envs/machine_learning/lib/python3.7/site-packages/tensorflow_core/python/feature_column/feature_column_v2.py:4331: VocabularyListCategoricalColumn._num_buckets (from tensorflow.python.feature_column.feature_column_v2) is deprecated and will be removed in a future version.\n",
      "Instructions for updating:\n",
      "The old _FeatureColumn APIs are being deprecated. Please use the new FeatureColumn APIs instead.\n",
      "INFO:tensorflow:Done calling model_fn.\n",
      "INFO:tensorflow:Create CheckpointSaverHook.\n",
      "INFO:tensorflow:Graph was finalized.\n",
      "INFO:tensorflow:Restoring parameters from linear_model/model.ckpt-1960\n",
      "INFO:tensorflow:Running local_init_op.\n",
      "INFO:tensorflow:Done running local_init_op.\n",
      "INFO:tensorflow:Saving checkpoints for 1960 into linear_model/model.ckpt.\n",
      "INFO:tensorflow:loss = 0.38087112, step = 1960\n",
      "INFO:tensorflow:global_step/sec: 117.905\n",
      "INFO:tensorflow:loss = 0.33722138, step = 2060 (0.849 sec)\n",
      "INFO:tensorflow:global_step/sec: 419.356\n",
      "INFO:tensorflow:loss = 0.39442617, step = 2160 (0.238 sec)\n",
      "INFO:tensorflow:global_step/sec: 410.024\n",
      "INFO:tensorflow:loss = 0.33021855, step = 2260 (0.244 sec)\n",
      "INFO:tensorflow:global_step/sec: 413.942\n",
      "INFO:tensorflow:loss = 0.29998666, step = 2360 (0.242 sec)\n",
      "INFO:tensorflow:global_step/sec: 395.36\n",
      "INFO:tensorflow:loss = 0.3918929, step = 2460 (0.253 sec)\n",
      "INFO:tensorflow:global_step/sec: 403.939\n",
      "INFO:tensorflow:loss = 0.42590645, step = 2560 (0.248 sec)\n",
      "INFO:tensorflow:global_step/sec: 403.221\n",
      "INFO:tensorflow:loss = 0.3161151, step = 2660 (0.248 sec)\n",
      "INFO:tensorflow:global_step/sec: 406.75\n",
      "INFO:tensorflow:loss = 0.430205, step = 2760 (0.246 sec)\n",
      "INFO:tensorflow:global_step/sec: 404.72\n",
      "INFO:tensorflow:loss = 0.4552129, step = 2860 (0.247 sec)\n",
      "INFO:tensorflow:global_step/sec: 413.755\n",
      "INFO:tensorflow:loss = 0.53828657, step = 2960 (0.242 sec)\n",
      "INFO:tensorflow:global_step/sec: 377.203\n",
      "INFO:tensorflow:loss = 0.34578115, step = 3060 (0.266 sec)\n",
      "INFO:tensorflow:global_step/sec: 359.695\n",
      "INFO:tensorflow:loss = 0.3008956, step = 3160 (0.278 sec)\n",
      "INFO:tensorflow:global_step/sec: 342.046\n",
      "INFO:tensorflow:loss = 0.44339812, step = 3260 (0.293 sec)\n",
      "INFO:tensorflow:global_step/sec: 376.193\n",
      "INFO:tensorflow:loss = 0.44770628, step = 3360 (0.266 sec)\n",
      "INFO:tensorflow:global_step/sec: 388.274\n",
      "INFO:tensorflow:loss = 0.48022616, step = 3460 (0.258 sec)\n",
      "INFO:tensorflow:global_step/sec: 261.119\n",
      "INFO:tensorflow:loss = 0.32851565, step = 3560 (0.382 sec)\n",
      "INFO:tensorflow:global_step/sec: 385.764\n",
      "INFO:tensorflow:loss = 0.49940962, step = 3660 (0.259 sec)\n",
      "INFO:tensorflow:global_step/sec: 380.581\n",
      "INFO:tensorflow:loss = 0.38480565, step = 3760 (0.263 sec)\n",
      "INFO:tensorflow:global_step/sec: 396.652\n",
      "INFO:tensorflow:loss = 0.27094162, step = 3860 (0.251 sec)\n",
      "INFO:tensorflow:Saving checkpoints for 3920 into linear_model/model.ckpt.\n",
      "INFO:tensorflow:Loss for final step: 0.711453.\n"
     ]
    },
    {
     "data": {
      "text/plain": [
       "<tensorflow_estimator.python.estimator.canned.linear.LinearClassifierV2 at 0x1518ce610>"
      ]
     },
     "execution_count": 11,
     "metadata": {},
     "output_type": "execute_result"
    }
   ],
   "source": [
    "linear_output_dir = 'linear_model'\n",
    "if not os.path.exists(linear_output_dir):\n",
    "    os.mkdir(linear_output_dir)\n",
    "linear_estimator = tf.estimator.LinearClassifier(model_dir=linear_output_dir, n_classes=2,feature_columns=feature_columns)\n",
    "linear_estimator.train(input_fn=lambda : make_dataset(train_df, y_train, epochs=100))"
   ]
  },
  {
   "cell_type": "code",
   "execution_count": 12,
   "metadata": {},
   "outputs": [
    {
     "name": "stdout",
     "output_type": "stream",
     "text": [
      "INFO:tensorflow:Calling model_fn.\n",
      "WARNING:tensorflow:Layer linear/linear_model is casting an input tensor from dtype float64 to the layer's dtype of float32, which is new behavior in TensorFlow 2.  The layer has dtype float32 because it's dtype defaults to floatx.\n",
      "\n",
      "If you intended to run this layer in float32, you can safely ignore this warning. If in doubt, this warning is likely only an issue if you are porting a TensorFlow 1.X model to TensorFlow 2.\n",
      "\n",
      "To change all layers to have dtype float64 by default, call `tf.keras.backend.set_floatx('float64')`. To change just this layer, pass dtype='float64' to the layer constructor. If you are the author of this layer, you can disable autocasting by passing autocast=False to the base Layer constructor.\n",
      "\n",
      "INFO:tensorflow:Done calling model_fn.\n",
      "INFO:tensorflow:Starting evaluation at 2020-02-10T16:51:38Z\n",
      "INFO:tensorflow:Graph was finalized.\n",
      "INFO:tensorflow:Restoring parameters from linear_model/model.ckpt-3920\n",
      "INFO:tensorflow:Running local_init_op.\n",
      "INFO:tensorflow:Done running local_init_op.\n",
      "INFO:tensorflow:Finished evaluation at 2020-02-10-16:51:40\n",
      "INFO:tensorflow:Saving dict for global step 3920: accuracy = 0.780303, accuracy_baseline = 0.625, auc = 0.83694524, auc_precision_recall = 0.78658956, average_loss = 0.4732203, global_step = 3920, label/mean = 0.375, loss = 0.45515278, precision = 0.69902915, prediction/mean = 0.41262805, recall = 0.72727275\n",
      "INFO:tensorflow:Saving 'checkpoint_path' summary for global step 3920: linear_model/model.ckpt-3920\n"
     ]
    },
    {
     "data": {
      "text/plain": [
       "{'accuracy': 0.780303,\n",
       " 'accuracy_baseline': 0.625,\n",
       " 'auc': 0.83694524,\n",
       " 'auc_precision_recall': 0.78658956,\n",
       " 'average_loss': 0.4732203,\n",
       " 'label/mean': 0.375,\n",
       " 'loss': 0.45515278,\n",
       " 'precision': 0.69902915,\n",
       " 'prediction/mean': 0.41262805,\n",
       " 'recall': 0.72727275,\n",
       " 'global_step': 3920}"
      ]
     },
     "execution_count": 12,
     "metadata": {},
     "output_type": "execute_result"
    }
   ],
   "source": [
    "linear_estimator.evaluate(input_fn=lambda : make_dataset(eval_df, y_eval, epochs=1, shuffle=False))"
   ]
  },
  {
   "cell_type": "code",
   "execution_count": 14,
   "metadata": {},
   "outputs": [
    {
     "name": "stdout",
     "output_type": "stream",
     "text": [
      "INFO:tensorflow:Using default config.\n",
      "INFO:tensorflow:Using config: {'_model_dir': './dnn_model', '_tf_random_seed': None, '_save_summary_steps': 100, '_save_checkpoints_steps': None, '_save_checkpoints_secs': 600, '_session_config': allow_soft_placement: true\n",
      "graph_options {\n",
      "  rewrite_options {\n",
      "    meta_optimizer_iterations: ONE\n",
      "  }\n",
      "}\n",
      ", '_keep_checkpoint_max': 5, '_keep_checkpoint_every_n_hours': 10000, '_log_step_count_steps': 100, '_train_distribute': None, '_device_fn': None, '_protocol': None, '_eval_distribute': None, '_experimental_distribute': None, '_experimental_max_worker_delay_secs': None, '_session_creation_timeout_secs': 7200, '_service': None, '_cluster_spec': <tensorflow.python.training.server_lib.ClusterSpec object at 0x1528cfc50>, '_task_type': 'worker', '_task_id': 0, '_global_id_in_cluster': 0, '_master': '', '_evaluation_master': '', '_is_chief': True, '_num_ps_replicas': 0, '_num_worker_replicas': 1}\n",
      "INFO:tensorflow:Calling model_fn.\n",
      "WARNING:tensorflow:Layer dnn is casting an input tensor from dtype float64 to the layer's dtype of float32, which is new behavior in TensorFlow 2.  The layer has dtype float32 because it's dtype defaults to floatx.\n",
      "\n",
      "If you intended to run this layer in float32, you can safely ignore this warning. If in doubt, this warning is likely only an issue if you are porting a TensorFlow 1.X model to TensorFlow 2.\n",
      "\n",
      "To change all layers to have dtype float64 by default, call `tf.keras.backend.set_floatx('float64')`. To change just this layer, pass dtype='float64' to the layer constructor. If you are the author of this layer, you can disable autocasting by passing autocast=False to the base Layer constructor.\n",
      "\n",
      "INFO:tensorflow:Done calling model_fn.\n",
      "INFO:tensorflow:Create CheckpointSaverHook.\n",
      "INFO:tensorflow:Graph was finalized.\n",
      "INFO:tensorflow:Restoring parameters from ./dnn_model/model.ckpt-1960\n",
      "INFO:tensorflow:Running local_init_op.\n",
      "INFO:tensorflow:Done running local_init_op.\n",
      "INFO:tensorflow:Saving checkpoints for 1960 into ./dnn_model/model.ckpt.\n",
      "INFO:tensorflow:loss = 0.4280329, step = 1960\n",
      "INFO:tensorflow:global_step/sec: 100.152\n",
      "INFO:tensorflow:loss = 0.2474211, step = 2060 (1.000 sec)\n",
      "INFO:tensorflow:global_step/sec: 275.078\n",
      "INFO:tensorflow:loss = 0.3220635, step = 2160 (0.363 sec)\n",
      "INFO:tensorflow:global_step/sec: 276.29\n",
      "INFO:tensorflow:loss = 0.34966266, step = 2260 (0.362 sec)\n",
      "INFO:tensorflow:global_step/sec: 274.139\n",
      "INFO:tensorflow:loss = 0.33659282, step = 2360 (0.365 sec)\n",
      "INFO:tensorflow:global_step/sec: 273.075\n",
      "INFO:tensorflow:loss = 0.32913548, step = 2460 (0.366 sec)\n",
      "INFO:tensorflow:global_step/sec: 269.424\n",
      "INFO:tensorflow:loss = 0.5010054, step = 2560 (0.371 sec)\n",
      "INFO:tensorflow:global_step/sec: 269.469\n",
      "INFO:tensorflow:loss = 0.34070814, step = 2660 (0.371 sec)\n",
      "INFO:tensorflow:global_step/sec: 275.699\n",
      "INFO:tensorflow:loss = 0.26666215, step = 2760 (0.363 sec)\n",
      "INFO:tensorflow:global_step/sec: 275.758\n",
      "INFO:tensorflow:loss = 0.43200454, step = 2860 (0.363 sec)\n",
      "INFO:tensorflow:global_step/sec: 277.517\n",
      "INFO:tensorflow:loss = 0.33458593, step = 2960 (0.360 sec)\n",
      "INFO:tensorflow:global_step/sec: 274.148\n",
      "INFO:tensorflow:loss = 0.36393294, step = 3060 (0.365 sec)\n",
      "INFO:tensorflow:global_step/sec: 273.685\n",
      "INFO:tensorflow:loss = 0.18222956, step = 3160 (0.365 sec)\n",
      "INFO:tensorflow:global_step/sec: 275.898\n",
      "INFO:tensorflow:loss = 0.22971801, step = 3260 (0.363 sec)\n",
      "INFO:tensorflow:global_step/sec: 273.207\n",
      "INFO:tensorflow:loss = 0.41744447, step = 3360 (0.366 sec)\n",
      "INFO:tensorflow:global_step/sec: 268.24\n",
      "INFO:tensorflow:loss = 0.18828198, step = 3460 (0.373 sec)\n",
      "INFO:tensorflow:global_step/sec: 272.466\n",
      "INFO:tensorflow:loss = 0.40465558, step = 3560 (0.367 sec)\n",
      "INFO:tensorflow:global_step/sec: 273.761\n",
      "INFO:tensorflow:loss = 0.3743207, step = 3660 (0.365 sec)\n",
      "INFO:tensorflow:global_step/sec: 268.572\n",
      "INFO:tensorflow:loss = 0.30270076, step = 3760 (0.372 sec)\n",
      "INFO:tensorflow:global_step/sec: 270.908\n",
      "INFO:tensorflow:loss = 0.18706727, step = 3860 (0.369 sec)\n",
      "INFO:tensorflow:Saving checkpoints for 3920 into ./dnn_model/model.ckpt.\n",
      "INFO:tensorflow:Loss for final step: 0.42818138.\n"
     ]
    },
    {
     "data": {
      "text/plain": [
       "<tensorflow_estimator.python.estimator.canned.dnn.DNNClassifierV2 at 0x152a6e990>"
      ]
     },
     "execution_count": 14,
     "metadata": {},
     "output_type": "execute_result"
    }
   ],
   "source": [
    "dnn_output_dir = './dnn_model'\n",
    "if not os.path.exists(dnn_output_dir):\n",
    "    os.mkdir(dnn_output_dir)\n",
    "dnn_estimator = tf.estimator.DNNClassifier(model_dir=dnn_output_dir,\n",
    "                                          n_classes=2,\n",
    "                                          feature_columns=feature_columns,\n",
    "                                          hidden_units=[128, 128],\n",
    "                                          activation_fn=tf.nn.relu,\n",
    "                                          optimizer='Adam')\n",
    "dnn_estimator.train(input_fn=lambda : make_dataset(train_df, y_train, epochs=100))"
   ]
  },
  {
   "cell_type": "code",
   "execution_count": 15,
   "metadata": {},
   "outputs": [
    {
     "name": "stdout",
     "output_type": "stream",
     "text": [
      "INFO:tensorflow:Calling model_fn.\n",
      "WARNING:tensorflow:Layer dnn is casting an input tensor from dtype float64 to the layer's dtype of float32, which is new behavior in TensorFlow 2.  The layer has dtype float32 because it's dtype defaults to floatx.\n",
      "\n",
      "If you intended to run this layer in float32, you can safely ignore this warning. If in doubt, this warning is likely only an issue if you are porting a TensorFlow 1.X model to TensorFlow 2.\n",
      "\n",
      "To change all layers to have dtype float64 by default, call `tf.keras.backend.set_floatx('float64')`. To change just this layer, pass dtype='float64' to the layer constructor. If you are the author of this layer, you can disable autocasting by passing autocast=False to the base Layer constructor.\n",
      "\n",
      "INFO:tensorflow:Done calling model_fn.\n",
      "INFO:tensorflow:Starting evaluation at 2020-02-10T16:57:09Z\n",
      "INFO:tensorflow:Graph was finalized.\n",
      "INFO:tensorflow:Restoring parameters from ./dnn_model/model.ckpt-3920\n",
      "INFO:tensorflow:Running local_init_op.\n",
      "INFO:tensorflow:Done running local_init_op.\n",
      "INFO:tensorflow:Finished evaluation at 2020-02-10-16:57:11\n",
      "INFO:tensorflow:Saving dict for global step 3920: accuracy = 0.79924244, accuracy_baseline = 0.625, auc = 0.81181514, auc_precision_recall = 0.75121605, average_loss = 0.61872214, global_step = 3920, label/mean = 0.375, loss = 0.59058046, precision = 0.7169811, prediction/mean = 0.38742915, recall = 0.7676768\n",
      "INFO:tensorflow:Saving 'checkpoint_path' summary for global step 3920: ./dnn_model/model.ckpt-3920\n"
     ]
    },
    {
     "data": {
      "text/plain": [
       "{'accuracy': 0.79924244,\n",
       " 'accuracy_baseline': 0.625,\n",
       " 'auc': 0.81181514,\n",
       " 'auc_precision_recall': 0.75121605,\n",
       " 'average_loss': 0.61872214,\n",
       " 'label/mean': 0.375,\n",
       " 'loss': 0.59058046,\n",
       " 'precision': 0.7169811,\n",
       " 'prediction/mean': 0.38742915,\n",
       " 'recall': 0.7676768,\n",
       " 'global_step': 3920}"
      ]
     },
     "execution_count": 15,
     "metadata": {},
     "output_type": "execute_result"
    }
   ],
   "source": [
    "dnn_estimator.evaluate(input_fn=lambda : make_dataset(eval_df, y_eval, epochs=1, shuffle=False))"
   ]
  },
  {
   "cell_type": "code",
   "execution_count": null,
   "metadata": {},
   "outputs": [],
   "source": []
  }
 ],
 "metadata": {
  "kernelspec": {
   "display_name": "PyCharm (machine_learning)",
   "language": "python",
   "name": "pycharm-b74d5558"
  },
  "language_info": {
   "codemirror_mode": {
    "name": "ipython",
    "version": 3
   },
   "file_extension": ".py",
   "mimetype": "text/x-python",
   "name": "python",
   "nbconvert_exporter": "python",
   "pygments_lexer": "ipython3",
   "version": "3.7.6"
  }
 },
 "nbformat": 4,
 "nbformat_minor": 4
}
